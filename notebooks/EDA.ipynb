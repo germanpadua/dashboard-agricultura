{
 "cells": [
  {
   "cell_type": "markdown",
   "id": "2eda20fc",
   "metadata": {},
   "source": [
    "# EDA"
   ]
  },
  {
   "cell_type": "markdown",
   "id": "5c9c76f4",
   "metadata": {},
   "source": [
    "## Imports"
   ]
  },
  {
   "cell_type": "code",
   "execution_count": 1,
   "id": "750fbcd3",
   "metadata": {},
   "outputs": [],
   "source": [
    "import pandas as pd\n",
    "import numpy as np\n",
    "from plotly.subplots import make_subplots\n",
    "import plotly.graph_objects as go\n",
    "from plotly import express as px\n",
    "import plotly.io as pio\n",
    "\n",
    "import matplotlib.pyplot as plt\n",
    "import seaborn as sns\n",
    "\n",
    "import plotly.graph_objects as go\n"
   ]
  },
  {
   "cell_type": "markdown",
   "id": "3e66e465",
   "metadata": {},
   "source": [
    "## Carga de datos"
   ]
  },
  {
   "cell_type": "code",
   "execution_count": 2,
   "id": "524a3a5a",
   "metadata": {},
   "outputs": [],
   "source": [
    "def load_data(path_csv: str) -> pd.DataFrame:\n",
    "    df = pd.read_csv(path_csv, sep=\";\", parse_dates=[\"Dates\"])\n",
    "    return df.sort_values(\"Dates\")\n"
   ]
  },
  {
   "cell_type": "code",
   "execution_count": 3,
   "id": "f00ea24d",
   "metadata": {},
   "outputs": [],
   "source": [
    "df_raw = load_data(\"../data/raw/merged_output.csv\")"
   ]
  },
  {
   "cell_type": "code",
   "execution_count": 4,
   "id": "1f39f02d",
   "metadata": {},
   "outputs": [
    {
     "data": {
      "text/html": [
       "<div>\n",
       "<style scoped>\n",
       "    .dataframe tbody tr th:only-of-type {\n",
       "        vertical-align: middle;\n",
       "    }\n",
       "\n",
       "    .dataframe tbody tr th {\n",
       "        vertical-align: top;\n",
       "    }\n",
       "\n",
       "    .dataframe thead th {\n",
       "        text-align: right;\n",
       "    }\n",
       "</style>\n",
       "<table border=\"1\" class=\"dataframe\">\n",
       "  <thead>\n",
       "    <tr style=\"text-align: right;\">\n",
       "      <th></th>\n",
       "      <th>Dates</th>\n",
       "      <th>Air_Relat_Hum</th>\n",
       "      <th>Air_Temp</th>\n",
       "      <th>Wind_Dir</th>\n",
       "      <th>Solar_Rad</th>\n",
       "      <th>Wind_Speed</th>\n",
       "      <th>Rain</th>\n",
       "    </tr>\n",
       "  </thead>\n",
       "  <tbody>\n",
       "    <tr>\n",
       "      <th>0</th>\n",
       "      <td>2025-03-18 04:52:09.826</td>\n",
       "      <td>83</td>\n",
       "      <td>10.04</td>\n",
       "      <td>77</td>\n",
       "      <td>6.0</td>\n",
       "      <td>2.0</td>\n",
       "      <td>0.0</td>\n",
       "    </tr>\n",
       "    <tr>\n",
       "      <th>1</th>\n",
       "      <td>2025-03-18 05:51:41.505</td>\n",
       "      <td>92</td>\n",
       "      <td>8.69</td>\n",
       "      <td>54</td>\n",
       "      <td>5.0</td>\n",
       "      <td>0.0</td>\n",
       "      <td>0.0</td>\n",
       "    </tr>\n",
       "    <tr>\n",
       "      <th>2</th>\n",
       "      <td>2025-03-18 06:51:15.036</td>\n",
       "      <td>92</td>\n",
       "      <td>8.64</td>\n",
       "      <td>52</td>\n",
       "      <td>3.0</td>\n",
       "      <td>7.0</td>\n",
       "      <td>0.0</td>\n",
       "    </tr>\n",
       "    <tr>\n",
       "      <th>3</th>\n",
       "      <td>2025-03-18 07:50:52.882</td>\n",
       "      <td>92</td>\n",
       "      <td>8.82</td>\n",
       "      <td>55</td>\n",
       "      <td>2.0</td>\n",
       "      <td>6.0</td>\n",
       "      <td>0.0</td>\n",
       "    </tr>\n",
       "    <tr>\n",
       "      <th>4</th>\n",
       "      <td>2025-03-18 08:50:31.363</td>\n",
       "      <td>92</td>\n",
       "      <td>9.13</td>\n",
       "      <td>47</td>\n",
       "      <td>6.0</td>\n",
       "      <td>9.0</td>\n",
       "      <td>0.0</td>\n",
       "    </tr>\n",
       "  </tbody>\n",
       "</table>\n",
       "</div>"
      ],
      "text/plain": [
       "                    Dates  Air_Relat_Hum  Air_Temp  Wind_Dir  Solar_Rad  \\\n",
       "0 2025-03-18 04:52:09.826             83     10.04        77        6.0   \n",
       "1 2025-03-18 05:51:41.505             92      8.69        54        5.0   \n",
       "2 2025-03-18 06:51:15.036             92      8.64        52        3.0   \n",
       "3 2025-03-18 07:50:52.882             92      8.82        55        2.0   \n",
       "4 2025-03-18 08:50:31.363             92      9.13        47        6.0   \n",
       "\n",
       "   Wind_Speed  Rain  \n",
       "0         2.0   0.0  \n",
       "1         0.0   0.0  \n",
       "2         7.0   0.0  \n",
       "3         6.0   0.0  \n",
       "4         9.0   0.0  "
      ]
     },
     "execution_count": 4,
     "metadata": {},
     "output_type": "execute_result"
    }
   ],
   "source": [
    "df_raw.head()"
   ]
  },
  {
   "cell_type": "markdown",
   "id": "40270585",
   "metadata": {},
   "source": [
    "## Estadísticas"
   ]
  },
  {
   "cell_type": "code",
   "execution_count": 5,
   "id": "dea150ea",
   "metadata": {},
   "outputs": [
    {
     "data": {
      "text/html": [
       "<div>\n",
       "<style scoped>\n",
       "    .dataframe tbody tr th:only-of-type {\n",
       "        vertical-align: middle;\n",
       "    }\n",
       "\n",
       "    .dataframe tbody tr th {\n",
       "        vertical-align: top;\n",
       "    }\n",
       "\n",
       "    .dataframe thead th {\n",
       "        text-align: right;\n",
       "    }\n",
       "</style>\n",
       "<table border=\"1\" class=\"dataframe\">\n",
       "  <thead>\n",
       "    <tr style=\"text-align: right;\">\n",
       "      <th></th>\n",
       "      <th>Dates</th>\n",
       "      <th>Air_Relat_Hum</th>\n",
       "      <th>Air_Temp</th>\n",
       "      <th>Wind_Dir</th>\n",
       "      <th>Solar_Rad</th>\n",
       "      <th>Wind_Speed</th>\n",
       "      <th>Rain</th>\n",
       "    </tr>\n",
       "  </thead>\n",
       "  <tbody>\n",
       "    <tr>\n",
       "      <th>count</th>\n",
       "      <td>1034</td>\n",
       "      <td>1034.000000</td>\n",
       "      <td>1034.000000</td>\n",
       "      <td>1034.000000</td>\n",
       "      <td>1034.000000</td>\n",
       "      <td>1034.000000</td>\n",
       "      <td>1034.000000</td>\n",
       "    </tr>\n",
       "    <tr>\n",
       "      <th>mean</th>\n",
       "      <td>2025-04-08 22:32:17.783594752</td>\n",
       "      <td>66.271760</td>\n",
       "      <td>11.781132</td>\n",
       "      <td>157.088008</td>\n",
       "      <td>5.892679</td>\n",
       "      <td>7.108027</td>\n",
       "      <td>0.056963</td>\n",
       "    </tr>\n",
       "    <tr>\n",
       "      <th>min</th>\n",
       "      <td>2025-03-18 04:52:09.826000</td>\n",
       "      <td>25.000000</td>\n",
       "      <td>0.480000</td>\n",
       "      <td>1.000000</td>\n",
       "      <td>0.000000</td>\n",
       "      <td>0.000000</td>\n",
       "      <td>0.000000</td>\n",
       "    </tr>\n",
       "    <tr>\n",
       "      <th>25%</th>\n",
       "      <td>2025-03-28 22:49:40.504250112</td>\n",
       "      <td>51.000000</td>\n",
       "      <td>7.400000</td>\n",
       "      <td>55.250000</td>\n",
       "      <td>0.000000</td>\n",
       "      <td>3.000000</td>\n",
       "      <td>0.000000</td>\n",
       "    </tr>\n",
       "    <tr>\n",
       "      <th>50%</th>\n",
       "      <td>2025-04-08 17:10:17.245500160</td>\n",
       "      <td>67.000000</td>\n",
       "      <td>11.100000</td>\n",
       "      <td>130.000000</td>\n",
       "      <td>0.000000</td>\n",
       "      <td>6.700000</td>\n",
       "      <td>0.000000</td>\n",
       "    </tr>\n",
       "    <tr>\n",
       "      <th>75%</th>\n",
       "      <td>2025-04-19 10:30:06.234749952</td>\n",
       "      <td>83.000000</td>\n",
       "      <td>15.407500</td>\n",
       "      <td>266.000000</td>\n",
       "      <td>6.000000</td>\n",
       "      <td>10.500000</td>\n",
       "      <td>0.000000</td>\n",
       "    </tr>\n",
       "    <tr>\n",
       "      <th>max</th>\n",
       "      <td>2025-05-04 08:49:32.409000</td>\n",
       "      <td>100.000000</td>\n",
       "      <td>27.660000</td>\n",
       "      <td>360.000000</td>\n",
       "      <td>59.600000</td>\n",
       "      <td>24.000000</td>\n",
       "      <td>10.000000</td>\n",
       "    </tr>\n",
       "    <tr>\n",
       "      <th>std</th>\n",
       "      <td>NaN</td>\n",
       "      <td>18.882544</td>\n",
       "      <td>5.771522</td>\n",
       "      <td>110.711835</td>\n",
       "      <td>11.867520</td>\n",
       "      <td>5.220559</td>\n",
       "      <td>0.683334</td>\n",
       "    </tr>\n",
       "  </tbody>\n",
       "</table>\n",
       "</div>"
      ],
      "text/plain": [
       "                               Dates  Air_Relat_Hum     Air_Temp     Wind_Dir  \\\n",
       "count                           1034    1034.000000  1034.000000  1034.000000   \n",
       "mean   2025-04-08 22:32:17.783594752      66.271760    11.781132   157.088008   \n",
       "min       2025-03-18 04:52:09.826000      25.000000     0.480000     1.000000   \n",
       "25%    2025-03-28 22:49:40.504250112      51.000000     7.400000    55.250000   \n",
       "50%    2025-04-08 17:10:17.245500160      67.000000    11.100000   130.000000   \n",
       "75%    2025-04-19 10:30:06.234749952      83.000000    15.407500   266.000000   \n",
       "max       2025-05-04 08:49:32.409000     100.000000    27.660000   360.000000   \n",
       "std                              NaN      18.882544     5.771522   110.711835   \n",
       "\n",
       "         Solar_Rad   Wind_Speed         Rain  \n",
       "count  1034.000000  1034.000000  1034.000000  \n",
       "mean      5.892679     7.108027     0.056963  \n",
       "min       0.000000     0.000000     0.000000  \n",
       "25%       0.000000     3.000000     0.000000  \n",
       "50%       0.000000     6.700000     0.000000  \n",
       "75%       6.000000    10.500000     0.000000  \n",
       "max      59.600000    24.000000    10.000000  \n",
       "std      11.867520     5.220559     0.683334  "
      ]
     },
     "execution_count": 5,
     "metadata": {},
     "output_type": "execute_result"
    }
   ],
   "source": [
    "df_raw.describe()"
   ]
  },
  {
   "cell_type": "code",
   "execution_count": 6,
   "id": "90c57eed",
   "metadata": {},
   "outputs": [
    {
     "data": {
      "text/plain": [
       "Dates            0\n",
       "Air_Relat_Hum    0\n",
       "Air_Temp         0\n",
       "Wind_Dir         0\n",
       "Solar_Rad        0\n",
       "Wind_Speed       0\n",
       "Rain             0\n",
       "dtype: int64"
      ]
     },
     "execution_count": 6,
     "metadata": {},
     "output_type": "execute_result"
    }
   ],
   "source": [
    "# Valores perdidos\n",
    "missing_values = df_raw.isnull().sum()\n",
    "missing_values"
   ]
  },
  {
   "cell_type": "markdown",
   "id": "52ad2db7",
   "metadata": {},
   "source": [
    "## Gráficos"
   ]
  },
  {
   "cell_type": "code",
   "execution_count": 7,
   "id": "46039817",
   "metadata": {},
   "outputs": [],
   "source": [
    "def simple_graph(df: pd.DataFrame, x: str, y: str, title: str, xlabel: str, ylabel: str):\n",
    "    plt.figure(figsize=(10, 6))\n",
    "    plt.plot(df[x], df[y], label=y, color='blue')\n",
    "    plt.title(title)\n",
    "    plt.xlabel(xlabel)\n",
    "    plt.ylabel(ylabel)\n",
    "    plt.xticks(rotation=45)\n",
    "    plt.tight_layout()\n",
    "    plt.show()"
   ]
  },
  {
   "cell_type": "code",
   "execution_count": 8,
   "id": "00b042ca",
   "metadata": {},
   "outputs": [
    {
     "data": {
      "image/png": "[encoded data removed]",
      "text/plain": [
       "<Figure size 1000x600 with 1 Axes>"
      ]
     },
     "metadata": {},
     "output_type": "display_data"
    }
   ],
   "source": [
    "# Gráfico de Air_Relat_Hum con matplotlib\n",
    "simple_graph(df_raw, 'Dates', 'Air_Relat_Hum', 'Humedad Relativa del Aire', 'Fecha', 'Humedad Relativa (%)')"
   ]
  },
  {
   "cell_type": "code",
   "execution_count": 9,
   "id": "3d3ae5eb",
   "metadata": {},
   "outputs": [
    {
     "data": {
      "image/png": "[encoded data removed]",
      "text/plain": [
       "<Figure size 1000x600 with 1 Axes>"
      ]
     },
     "metadata": {},
     "output_type": "display_data"
    }
   ],
   "source": [
    "# Gráfico de Air_Temp\n",
    "simple_graph(df_raw, 'Dates', 'Air_Temp', 'Temperatura del Aire', 'Fecha', 'Temperatura (°C)')\n"
   ]
  },
  {
   "cell_type": "code",
   "execution_count": 10,
   "id": "8ef03b36",
   "metadata": {},
   "outputs": [
    {
     "data": {
      "image/png": "[encoded data removed]",
      "text/plain": [
       "<Figure size 1000x600 with 1 Axes>"
      ]
     },
     "metadata": {},
     "output_type": "display_data"
    }
   ],
   "source": [
    "# Gráfico de Wind_Dir\n",
    "simple_graph(df_raw, 'Dates', 'Wind_Dir', 'Dirección del Viento', 'Fecha', 'Dirección del Viento (°)')"
   ]
  },
  {
   "cell_type": "code",
   "execution_count": 11,
   "id": "0cf90505",
   "metadata": {},
   "outputs": [
    {
     "data": {
      "image/png": "[encoded data removed]",
      "text/plain": [
       "<Figure size 1000x600 with 1 Axes>"
      ]
     },
     "metadata": {},
     "output_type": "display_data"
    }
   ],
   "source": [
    "# Gráfico de Solar_Rad\n",
    "simple_graph(df_raw, 'Dates', 'Solar_Rad', 'Radiación Solar', 'Fecha', 'Radiación Solar (W/m²)')"
   ]
  },
  {
   "cell_type": "code",
   "execution_count": 12,
   "id": "af31b66d",
   "metadata": {},
   "outputs": [
    {
     "data": {
      "image/png": "[encoded data removed]",
      "text/plain": [
       "<Figure size 1000x600 with 1 Axes>"
      ]
     },
     "metadata": {},
     "output_type": "display_data"
    }
   ],
   "source": [
    "# Gráfico de Wind_Speed\n",
    "simple_graph(df_raw, 'Dates', 'Wind_Speed', 'Velocidad del Viento', 'Fecha', 'Velocidad del Viento (m/s)')"
   ]
  },
  {
   "cell_type": "code",
   "execution_count": 13,
   "id": "7c134cbe",
   "metadata": {},
   "outputs": [
    {
     "data": {
      "image/png": "[encoded data removed]",
      "text/plain": [
       "<Figure size 1000x600 with 1 Axes>"
      ]
     },
     "metadata": {},
     "output_type": "display_data"
    }
   ],
   "source": [
    "# Gráfico de Rain\n",
    "simple_graph(df_raw, 'Dates', 'Rain', 'Lluvia', 'Fecha', 'Lluvia (mm)')"
   ]
  },
  {
   "cell_type": "markdown",
   "id": "d0263c3b",
   "metadata": {},
   "source": [
    "## Gráficos más complejos"
   ]
  },
  {
   "cell_type": "code",
   "execution_count": 14,
   "id": "4bb768b9",
   "metadata": {},
   "outputs": [],
   "source": [
    "df_rain_daily = (\n",
    "    df_raw\n",
    "    .set_index('Dates')['Rain']\n",
    "    .resample('D')\n",
    "    .sum()\n",
    "    .fillna(0)\n",
    ")"
   ]
  },
  {
   "cell_type": "code",
   "execution_count": 15,
   "id": "3b08819d",
   "metadata": {},
   "outputs": [
    {
     "data": {
      "application/vnd.plotly.v1+json": {
       "config": {
        "plotlyServerURL": "https://plot.ly"
       },
       "data": [
        {
         "hovertemplate": "%{x|%d %b %Y}<br><b>%{y:.1f} mm</b><extra></extra>",
         "marker": {
          "color": "rgba(30,144,255,0.6)",
          "line": {
           "color": "rgba(30,144,255,1)",
           "width": 1.5
          }
         },
         "name": "Lluvia (mm)",
         "type": "bar",
         "width": 69120000.00000001,
         "x": [
          "2025-03-18T00:00:00",
          "2025-03-19T00:00:00",
          "2025-03-20T00:00:00",
          "2025-03-21T00:00:00",
          "2025-03-22T00:00:00",
          "2025-03-23T00:00:00",
          "2025-03-24T00:00:00",
          "2025-03-25T00:00:00",
          "2025-03-26T00:00:00",
          "2025-03-27T00:00:00",
          "2025-03-28T00:00:00",
          "2025-03-29T00:00:00",
          "2025-03-30T00:00:00",
          "2025-03-31T00:00:00",
          "2025-04-01T00:00:00",
          "2025-04-02T00:00:00",
          "2025-04-03T00:00:00",
          "2025-04-04T00:00:00",
          "2025-04-05T00:00:00",
          "2025-04-06T00:00:00",
          "2025-04-07T00:00:00",
          "2025-04-08T00:00:00",
          "2025-04-09T00:00:00",
          "2025-04-10T00:00:00",
          "2025-04-11T00:00:00",
          "2025-04-12T00:00:00",
          "2025-04-13T00:00:00",
          "2025-04-14T00:00:00",
          "2025-04-15T00:00:00",
          "2025-04-16T00:00:00",
          "2025-04-17T00:00:00",
          "2025-04-18T00:00:00",
          "2025-04-19T00:00:00",
          "2025-04-20T00:00:00",
          "2025-04-21T00:00:00",
          "2025-04-22T00:00:00",
          "2025-04-23T00:00:00",
          "2025-04-24T00:00:00",
          "2025-04-25T00:00:00",
          "2025-04-26T00:00:00",
          "2025-04-27T00:00:00",
          "2025-04-28T00:00:00",
          "2025-04-29T00:00:00",
          "2025-04-30T00:00:00",
          "2025-05-01T00:00:00",
          "2025-05-02T00:00:00",
          "2025-05-03T00:00:00",
          "2025-05-04T00:00:00"
         ],
         "y": [
          0,
          0,
          0,
          0,
          0,
          0,
          0,
          0,
          0,
          0,
          0,
          0,
          5.8,
          0.1,
          0,
          0,
          0,
          0,
          0,
          0,
          0,
          0,
          0,
          0,
          0,
          0,
          0,
          0,
          0,
          0,
          0,
          0,
          0,
          0,
          0,
          0,
          0,
          0,
          0,
          0,
          0,
          0,
          0,
          10,
          10,
          33,
          0,
          0
         ]
        }
       ],
       "layout": {
        "annotations": [
         {
          "arrowhead": 2,
          "ax": 0,
          "ay": -30,
          "font": {
           "color": "#1E90FF",
           "family": "Arial",
           "size": 12
          },
          "showarrow": true,
          "text": "Máx: 33.0 mm",
          "x": "2025-05-02T00:00:00",
          "y": 33
         }
        ],
        "bargap": 0.2,
        "hovermode": "x unified",
        "margin": {
         "b": 40,
         "l": 30,
         "r": 20,
         "t": 60
        },
        "template": {
         "data": {
          "bar": [
           {
            "error_x": {
             "color": "#2a3f5f"
            },
            "error_y": {
             "color": "#2a3f5f"
            },
            "marker": {
             "line": {
              "color": "white",
              "width": 0.5
             },
             "pattern": {
              "fillmode": "overlay",
              "size": 10,
              "solidity": 0.2
             }
            },
            "type": "bar"
           }
          ],
          "barpolar": [
           {
            "marker": {
             "line": {
              "color": "white",
              "width": 0.5
             },
             "pattern": {
              "fillmode": "overlay",
              "size": 10,
              "solidity": 0.2
             }
            },
            "type": "barpolar"
           }
          ],
          "carpet": [
           {
            "aaxis": {
             "endlinecolor": "#2a3f5f",
             "gridcolor": "#C8D4E3",
             "linecolor": "#C8D4E3",
             "minorgridcolor": "#C8D4E3",
             "startlinecolor": "#2a3f5f"
            },
            "baxis": {
             "endlinecolor": "#2a3f5f",
             "gridcolor": "#C8D4E3",
             "linecolor": "#C8D4E3",
             "minorgridcolor": "#C8D4E3",
             "startlinecolor": "#2a3f5f"
            },
            "type": "carpet"
           }
          ],
          "choropleth": [
           {
            "colorbar": {
             "outlinewidth": 0,
             "ticks": ""
            },
            "type": "choropleth"
           }
          ],
          "contour": [
           {
            "colorbar": {
             "outlinewidth": 0,
             "ticks": ""
            },
            "colorscale": [
             [
              0,
              "#0d0887"
             ],
             [
              0.1111111111111111,
              "#46039f"
             ],
             [
              0.2222222222222222,
              "#7201a8"
             ],
             [
              0.3333333333333333,
              "#9c179e"
             ],
             [
              0.4444444444444444,
              "#bd3786"
             ],
             [
              0.5555555555555556,
              "#d8576b"
             ],
             [
              0.6666666666666666,
              "#ed7953"
             ],
             [
              0.7777777777777778,
              "#fb9f3a"
             ],
             [
              0.8888888888888888,
              "#fdca26"
             ],
             [
              1,
              "#f0f921"
             ]
            ],
            "type": "contour"
           }
          ],
          "contourcarpet": [
           {
            "colorbar": {
             "outlinewidth": 0,
             "ticks": ""
            },
            "type": "contourcarpet"
           }
          ],
          "heatmap": [
           {
            "colorbar": {
             "outlinewidth": 0,
             "ticks": ""
            },
            "colorscale": [
             [
              0,
              "#0d0887"
             ],
             [
              0.1111111111111111,
              "#46039f"
             ],
             [
              0.2222222222222222,
              "#7201a8"
             ],
             [
              0.3333333333333333,
              "#9c179e"
             ],
             [
              0.4444444444444444,
              "#bd3786"
             ],
             [
              0.5555555555555556,
              "#d8576b"
             ],
             [
              0.6666666666666666,
              "#ed7953"
             ],
             [
              0.7777777777777778,
              "#fb9f3a"
             ],
             [
              0.8888888888888888,
              "#fdca26"
             ],
             [
              1,
              "#f0f921"
             ]
            ],
            "type": "heatmap"
           }
          ],
          "heatmapgl": [
           {
            "colorbar": {
             "outlinewidth": 0,
             "ticks": ""
            },
            "colorscale": [
             [
              0,
              "#0d0887"
             ],
             [
              0.1111111111111111,
              "#46039f"
             ],
             [
              0.2222222222222222,
              "#7201a8"
             ],
             [
              0.3333333333333333,
              "#9c179e"
             ],
             [
              0.4444444444444444,
              "#bd3786"
             ],
             [
              0.5555555555555556,
              "#d8576b"
             ],
             [
              0.6666666666666666,
              "#ed7953"
             ],
             [
              0.7777777777777778,
              "#fb9f3a"
             ],
             [
              0.8888888888888888,
              "#fdca26"
             ],
             [
              1,
              "#f0f921"
             ]
            ],
            "type": "heatmapgl"
           }
          ],
          "histogram": [
           {
            "marker": {
             "pattern": {
              "fillmode": "overlay",
              "size": 10,
              "solidity": 0.2
             }
            },
            "type": "histogram"
           }
          ],
          "histogram2d": [
           {
            "colorbar": {
             "outlinewidth": 0,
             "ticks": ""
            },
            "colorscale": [
             [
              0,
              "#0d0887"
             ],
             [
              0.1111111111111111,
              "#46039f"
             ],
             [
              0.2222222222222222,
              "#7201a8"
             ],
             [
              0.3333333333333333,
              "#9c179e"
             ],
             [
              0.4444444444444444,
              "#bd3786"
             ],
             [
              0.5555555555555556,
              "#d8576b"
             ],
             [
              0.6666666666666666,
              "#ed7953"
             ],
             [
              0.7777777777777778,
              "#fb9f3a"
             ],
             [
              0.8888888888888888,
              "#fdca26"
             ],
             [
              1,
              "#f0f921"
             ]
            ],
            "type": "histogram2d"
           }
          ],
          "histogram2dcontour": [
           {
            "colorbar": {
             "outlinewidth": 0,
             "ticks": ""
            },
            "colorscale": [
             [
              0,
              "#0d0887"
             ],
             [
              0.1111111111111111,
              "#46039f"
             ],
             [
              0.2222222222222222,
              "#7201a8"
             ],
             [
              0.3333333333333333,
              "#9c179e"
             ],
             [
              0.4444444444444444,
              "#bd3786"
             ],
             [
              0.5555555555555556,
              "#d8576b"
             ],
             [
              0.6666666666666666,
              "#ed7953"
             ],
             [
              0.7777777777777778,
              "#fb9f3a"
             ],
             [
              0.8888888888888888,
              "#fdca26"
             ],
             [
              1,
              "#f0f921"
             ]
            ],
            "type": "histogram2dcontour"
           }
          ],
          "mesh3d": [
           {
            "colorbar": {
             "outlinewidth": 0,
             "ticks": ""
            },
            "type": "mesh3d"
           }
          ],
          "parcoords": [
           {
            "line": {
             "colorbar": {
              "outlinewidth": 0,
              "ticks": ""
             }
            },
            "type": "parcoords"
           }
          ],
          "pie": [
           {
            "automargin": true,
            "type": "pie"
           }
          ],
          "scatter": [
           {
            "fillpattern": {
             "fillmode": "overlay",
             "size": 10,
             "solidity": 0.2
            },
            "type": "scatter"
           }
          ],
          "scatter3d": [
           {
            "line": {
             "colorbar": {
              "outlinewidth": 0,
              "ticks": ""
             }
            },
            "marker": {
             "colorbar": {
              "outlinewidth": 0,
              "ticks": ""
             }
            },
            "type": "scatter3d"
           }
          ],
          "scattercarpet": [
           {
            "marker": {
             "colorbar": {
              "outlinewidth": 0,
              "ticks": ""
             }
            },
            "type": "scattercarpet"
           }
          ],
          "scattergeo": [
           {
            "marker": {
             "colorbar": {
              "outlinewidth": 0,
              "ticks": ""
             }
            },
            "type": "scattergeo"
           }
          ],
          "scattergl": [
           {
            "marker": {
             "colorbar": {
              "outlinewidth": 0,
              "ticks": ""
             }
            },
            "type": "scattergl"
           }
          ],
          "scattermapbox": [
           {
            "marker": {
             "colorbar": {
              "outlinewidth": 0,
              "ticks": ""
             }
            },
            "type": "scattermapbox"
           }
          ],
          "scatterpolar": [
           {
            "marker": {
             "colorbar": {
              "outlinewidth": 0,
              "ticks": ""
             }
            },
            "type": "scatterpolar"
           }
          ],
          "scatterpolargl": [
           {
            "marker": {
             "colorbar": {
              "outlinewidth": 0,
              "ticks": ""
             }
            },
            "type": "scatterpolargl"
           }
          ],
          "scatterternary": [
           {
            "marker": {
             "colorbar": {
              "outlinewidth": 0,
              "ticks": ""
             }
            },
            "type": "scatterternary"
           }
          ],
          "surface": [
           {
            "colorbar": {
             "outlinewidth": 0,
             "ticks": ""
            },
            "colorscale": [
             [
              0,
              "#0d0887"
             ],
             [
              0.1111111111111111,
              "#46039f"
             ],
             [
              0.2222222222222222,
              "#7201a8"
             ],
             [
              0.3333333333333333,
              "#9c179e"
             ],
             [
              0.4444444444444444,
              "#bd3786"
             ],
             [
              0.5555555555555556,
              "#d8576b"
             ],
             [
              0.6666666666666666,
              "#ed7953"
             ],
             [
              0.7777777777777778,
              "#fb9f3a"
             ],
             [
              0.8888888888888888,
              "#fdca26"
             ],
             [
              1,
              "#f0f921"
             ]
            ],
            "type": "surface"
           }
          ],
          "table": [
           {
            "cells": {
             "fill": {
              "color": "#EBF0F8"
             },
             "line": {
              "color": "white"
             }
            },
            "header": {
             "fill": {
              "color": "#C8D4E3"
             },
             "line": {
              "color": "white"
             }
            },
            "type": "table"
           }
          ]
         },
         "layout": {
          "annotationdefaults": {
           "arrowcolor": "#2a3f5f",
           "arrowhead": 0,
           "arrowwidth": 1
          },
          "autotypenumbers": "strict",
          "coloraxis": {
           "colorbar": {
            "outlinewidth": 0,
            "ticks": ""
           }
          },
          "colorscale": {
           "diverging": [
            [
             0,
             "#8e0152"
            ],
            [
             0.1,
             "#c51b7d"
            ],
            [
             0.2,
             "#de77ae"
            ],
            [
             0.3,
             "#f1b6da"
            ],
            [
             0.4,
             "#fde0ef"
            ],
            [
             0.5,
             "#f7f7f7"
            ],
            [
             0.6,
             "#e6f5d0"
            ],
            [
             0.7,
             "#b8e186"
            ],
            [
             0.8,
             "#7fbc41"
            ],
            [
             0.9,
             "#4d9221"
            ],
            [
             1,
             "#276419"
            ]
           ],
           "sequential": [
            [
             0,
             "#0d0887"
            ],
            [
             0.1111111111111111,
             "#46039f"
            ],
            [
             0.2222222222222222,
             "#7201a8"
            ],
            [
             0.3333333333333333,
             "#9c179e"
            ],
            [
             0.4444444444444444,
             "#bd3786"
            ],
            [
             0.5555555555555556,
             "#d8576b"
            ],
            [
             0.6666666666666666,
             "#ed7953"
            ],
            [
             0.7777777777777778,
             "#fb9f3a"
            ],
            [
             0.8888888888888888,
             "#fdca26"
            ],
            [
             1,
             "#f0f921"
            ]
           ],
           "sequentialminus": [
            [
             0,
             "#0d0887"
            ],
            [
             0.1111111111111111,
             "#46039f"
            ],
            [
             0.2222222222222222,
             "#7201a8"
            ],
            [
             0.3333333333333333,
             "#9c179e"
            ],
            [
             0.4444444444444444,
             "#bd3786"
            ],
            [
             0.5555555555555556,
             "#d8576b"
            ],
            [
             0.6666666666666666,
             "#ed7953"
            ],
            [
             0.7777777777777778,
             "#fb9f3a"
            ],
            [
             0.8888888888888888,
             "#fdca26"
            ],
            [
             1,
             "#f0f921"
            ]
           ]
          },
          "colorway": [
           "#636efa",
           "#EF553B",
           "#00cc96",
           "#ab63fa",
           "#FFA15A",
           "#19d3f3",
           "#FF6692",
           "#B6E880",
           "#FF97FF",
           "#FECB52"
          ],
          "font": {
           "color": "#2a3f5f"
          },
          "geo": {
           "bgcolor": "white",
           "lakecolor": "white",
           "landcolor": "white",
           "showlakes": true,
           "showland": true,
           "subunitcolor": "#C8D4E3"
          },
          "hoverlabel": {
           "align": "left"
          },
          "hovermode": "closest",
          "mapbox": {
           "style": "light"
          },
          "paper_bgcolor": "white",
          "plot_bgcolor": "white",
          "polar": {
           "angularaxis": {
            "gridcolor": "#EBF0F8",
            "linecolor": "#EBF0F8",
            "ticks": ""
           },
           "bgcolor": "white",
           "radialaxis": {
            "gridcolor": "#EBF0F8",
            "linecolor": "#EBF0F8",
            "ticks": ""
           }
          },
          "scene": {
           "xaxis": {
            "backgroundcolor": "white",
            "gridcolor": "#DFE8F3",
            "gridwidth": 2,
            "linecolor": "#EBF0F8",
            "showbackground": true,
            "ticks": "",
            "zerolinecolor": "#EBF0F8"
           },
           "yaxis": {
            "backgroundcolor": "white",
            "gridcolor": "#DFE8F3",
            "gridwidth": 2,
            "linecolor": "#EBF0F8",
            "showbackground": true,
            "ticks": "",
            "zerolinecolor": "#EBF0F8"
           },
           "zaxis": {
            "backgroundcolor": "white",
            "gridcolor": "#DFE8F3",
            "gridwidth": 2,
            "linecolor": "#EBF0F8",
            "showbackground": true,
            "ticks": "",
            "zerolinecolor": "#EBF0F8"
           }
          },
          "shapedefaults": {
           "line": {
            "color": "#2a3f5f"
           }
          },
          "ternary": {
           "aaxis": {
            "gridcolor": "#DFE8F3",
            "linecolor": "#A2B1C6",
            "ticks": ""
           },
           "baxis": {
            "gridcolor": "#DFE8F3",
            "linecolor": "#A2B1C6",
            "ticks": ""
           },
           "bgcolor": "white",
           "caxis": {
            "gridcolor": "#DFE8F3",
            "linecolor": "#A2B1C6",
            "ticks": ""
           }
          },
          "title": {
           "x": 0.05
          },
          "xaxis": {
           "automargin": true,
           "gridcolor": "#EBF0F8",
           "linecolor": "#EBF0F8",
           "ticks": "",
           "title": {
            "standoff": 15
           },
           "zerolinecolor": "#EBF0F8",
           "zerolinewidth": 2
          },
          "yaxis": {
           "automargin": true,
           "gridcolor": "#EBF0F8",
           "linecolor": "#EBF0F8",
           "ticks": "",
           "title": {
            "standoff": 15
           },
           "zerolinecolor": "#EBF0F8",
           "zerolinewidth": 2
          }
         }
        },
        "title": {
         "text": "<b>Lluvia diaria</b>",
         "x": 0.02,
         "xanchor": "left"
        },
        "xaxis": {
         "gridcolor": "rgba(200,200,200,0.2)",
         "showgrid": true,
         "tickangle": -45,
         "ticklabelmode": "period",
         "tickmode": "array",
         "ticktext": [
          "30 Mar",
          "31 Mar",
          "30 Apr",
          "01 May",
          "02 May"
         ],
         "tickvals": [
          "2025-03-30T00:00:00",
          "2025-03-31T00:00:00",
          "2025-04-30T00:00:00",
          "2025-05-01T00:00:00",
          "2025-05-02T00:00:00"
         ],
         "title": {
          "text": "Fecha"
         }
        },
        "yaxis": {
         "gridcolor": "rgba(200,200,200,0.2)",
         "showgrid": true,
         "title": {
          "text": "Lluvia (mm)"
         }
        }
       }
      }
     },
     "metadata": {},
     "output_type": "display_data"
    }
   ],
   "source": [
    "def make_rain_bar_series(df_daily):\n",
    "    # Prepara arrays de fechas donde hubo lluvia\n",
    "    non_zero = df_daily[df_daily.values > 0]\n",
    "    tick_vals = non_zero.index\n",
    "    tick_text = [d.strftime(\"%d %b\") for d in tick_vals]\n",
    "\n",
    "    fig = go.Figure()\n",
    "    fig.add_trace(go.Bar(\n",
    "        x=df_daily.index,\n",
    "        y=df_daily.values,\n",
    "        name=\"Lluvia (mm)\",\n",
    "        width=0.8 * 24*60*60*1000,   # 0.8 días de ancho para que no se toquen\n",
    "        marker=dict(\n",
    "            color=\"rgba(30,144,255,0.6)\",\n",
    "            line=dict(color=\"rgba(30,144,255,1)\", width=1.5)\n",
    "        ),\n",
    "        hovertemplate=\"%{x|%d %b %Y}<br><b>%{y:.1f} mm</b><extra></extra>\"\n",
    "    ))\n",
    "\n",
    "\n",
    "    max_date = df_daily.idxmax()\n",
    "    max_val  = df_daily.max()\n",
    "    fig.add_annotation(\n",
    "        x=max_date, y=max_val,\n",
    "        text=f\"Máx: {max_val:.1f} mm\",\n",
    "        showarrow=True, arrowhead=2, ax=0, ay=-30,\n",
    "        font=dict(size=12, family=\"Arial\", color=\"#1E90FF\")\n",
    "    )\n",
    "\n",
    "    # 5) Layout general + mejora de ejes\n",
    "    fig.update_layout(\n",
    "        title=dict(text=\"<b>Lluvia diaria</b>\", x=0.02, xanchor=\"left\"),\n",
    "        template=\"plotly_white\",\n",
    "        margin=dict(l=30, r=20, t=60, b=40),\n",
    "        hovermode=\"x unified\",\n",
    "        bargap=0.2,\n",
    "        xaxis=dict(\n",
    "            title=\"Fecha\",\n",
    "            showgrid=True,\n",
    "            gridcolor=\"rgba(200,200,200,0.2)\",\n",
    "            tickangle=-45,\n",
    "\n",
    "            # Aquí definimos sólo los días con lluvia\n",
    "            tickmode=\"array\",\n",
    "            tickvals=tick_vals,\n",
    "            ticktext=tick_text,\n",
    "\n",
    "            ticklabelmode=\"period\",\n",
    "        ),\n",
    "        yaxis=dict(title=\"Lluvia (mm)\",\n",
    "                   showgrid=True, gridcolor=\"rgba(200,200,200,0.2)\")\n",
    "    )\n",
    "\n",
    "    return fig\n",
    "\n",
    "\n",
    "\n",
    "\n",
    "bar = make_rain_bar_series(df_rain_daily)\n",
    "bar.show()\n"
   ]
  },
  {
   "cell_type": "code",
   "execution_count": 16,
   "id": "b074d1d5",
   "metadata": {},
   "outputs": [],
   "source": [
    "df_hum_daily = (\n",
    "    df_raw\n",
    "    .set_index('Dates')['Air_Relat_Hum']\n",
    "    .resample('D')\n",
    "    .mean()\n",
    "    .fillna(0)\n",
    ")"
   ]
  },
  {
   "cell_type": "code",
   "execution_count": 17,
   "id": "3f956cde",
   "metadata": {},
   "outputs": [
    {
     "data": {
      "application/vnd.plotly.v1+json": {
       "config": {
        "plotlyServerURL": "https://plot.ly"
       },
       "data": [
        {
         "hovertemplate": "%{x|%d %b}<br>%{y:.0f}%<extra></extra>",
         "line": {
          "color": "#4169E1",
          "shape": "spline",
          "width": 3
         },
         "marker": {
          "size": 6
         },
         "mode": "lines+markers",
         "name": "Humedad (%)",
         "type": "scatter",
         "x": [
          "2025-03-18T00:00:00",
          "2025-03-19T00:00:00",
          "2025-03-20T00:00:00",
          "2025-03-21T00:00:00",
          "2025-03-22T00:00:00",
          "2025-03-23T00:00:00",
          "2025-03-24T00:00:00",
          "2025-03-25T00:00:00",
          "2025-03-26T00:00:00",
          "2025-03-27T00:00:00",
          "2025-03-28T00:00:00",
          "2025-03-29T00:00:00",
          "2025-03-30T00:00:00",
          "2025-03-31T00:00:00",
          "2025-04-01T00:00:00",
          "2025-04-02T00:00:00",
          "2025-04-03T00:00:00",
          "2025-04-04T00:00:00",
          "2025-04-05T00:00:00",
          "2025-04-06T00:00:00",
          "2025-04-07T00:00:00",
          "2025-04-08T00:00:00",
          "2025-04-09T00:00:00",
          "2025-04-10T00:00:00",
          "2025-04-11T00:00:00",
          "2025-04-12T00:00:00",
          "2025-04-13T00:00:00",
          "2025-04-14T00:00:00",
          "2025-04-15T00:00:00",
          "2025-04-16T00:00:00",
          "2025-04-17T00:00:00",
          "2025-04-18T00:00:00",
          "2025-04-19T00:00:00",
          "2025-04-20T00:00:00",
          "2025-04-21T00:00:00",
          "2025-04-22T00:00:00",
          "2025-04-23T00:00:00",
          "2025-04-24T00:00:00",
          "2025-04-25T00:00:00",
          "2025-04-26T00:00:00",
          "2025-04-27T00:00:00",
          "2025-04-28T00:00:00",
          "2025-04-29T00:00:00",
          "2025-04-30T00:00:00",
          "2025-05-01T00:00:00",
          "2025-05-02T00:00:00",
          "2025-05-03T00:00:00",
          "2025-05-04T00:00:00"
         ],
         "y": [
          87.25,
          72.75,
          64.04166666666667,
          77,
          83.16666666666667,
          90.4,
          78.54166666666667,
          80.43478260869566,
          72.41666666666667,
          85.08333333333333,
          69.83333333333333,
          64.54166666666667,
          71.875,
          77.04166666666667,
          64.95833333333333,
          66,
          51.916666666666664,
          55.958333333333336,
          52.041666666666664,
          47.791666666666664,
          46.041666666666664,
          49.625,
          52.541666666666664,
          64.54166666666667,
          67.25,
          68.45833333333333,
          60.5,
          59.041666666666664,
          64.33333333333333,
          61.041666666666664,
          64.04166666666667,
          71.79166666666667,
          73.23076923076923,
          79,
          59.7,
          70.70833333333333,
          63.333333333333336,
          58,
          57.869565217391305,
          63.64,
          61.642857142857146,
          34.111111111111114,
          62.8,
          70.22222222222223,
          62.56521739130435,
          66.3157894736842,
          0,
          79
         ]
        }
       ],
       "layout": {
        "annotations": [
         {
          "arrowhead": 2,
          "ax": 0,
          "ay": -30,
          "font": {
           "color": "#4169E1",
           "family": "Arial",
           "size": 12
          },
          "showarrow": true,
          "text": "Máx: 90.4 %",
          "x": "2025-03-23T00:00:00",
          "y": 90.4
         },
         {
          "arrowhead": 2,
          "ax": 0,
          "ay": 30,
          "font": {
           "color": "#4169E1",
           "family": "Arial",
           "size": 12
          },
          "showarrow": true,
          "text": "Mín: 0.0 %",
          "x": "2025-05-03T00:00:00",
          "y": 0
         },
         {
          "showarrow": false,
          "text": "Media: 64.7%",
          "x": 1,
          "xanchor": "right",
          "xref": "x domain",
          "y": 64.67480516107018,
          "yanchor": "top",
          "yref": "y"
         }
        ],
        "bargap": 0.2,
        "hovermode": "x unified",
        "margin": {
         "b": 40,
         "l": 30,
         "r": 20,
         "t": 60
        },
        "shapes": [
         {
          "line": {
           "dash": "dash"
          },
          "opacity": 0.7,
          "type": "line",
          "x0": 0,
          "x1": 1,
          "xref": "x domain",
          "y0": 64.67480516107018,
          "y1": 64.67480516107018,
          "yref": "y"
         }
        ],
        "template": {
         "data": {
          "bar": [
           {
            "error_x": {
             "color": "#2a3f5f"
            },
            "error_y": {
             "color": "#2a3f5f"
            },
            "marker": {
             "line": {
              "color": "white",
              "width": 0.5
             },
             "pattern": {
              "fillmode": "overlay",
              "size": 10,
              "solidity": 0.2
             }
            },
            "type": "bar"
           }
          ],
          "barpolar": [
           {
            "marker": {
             "line": {
              "color": "white",
              "width": 0.5
             },
             "pattern": {
              "fillmode": "overlay",
              "size": 10,
              "solidity": 0.2
             }
            },
            "type": "barpolar"
           }
          ],
          "carpet": [
           {
            "aaxis": {
             "endlinecolor": "#2a3f5f",
             "gridcolor": "#C8D4E3",
             "linecolor": "#C8D4E3",
             "minorgridcolor": "#C8D4E3",
             "startlinecolor": "#2a3f5f"
            },
            "baxis": {
             "endlinecolor": "#2a3f5f",
             "gridcolor": "#C8D4E3",
             "linecolor": "#C8D4E3",
             "minorgridcolor": "#C8D4E3",
             "startlinecolor": "#2a3f5f"
            },
            "type": "carpet"
           }
          ],
          "choropleth": [
           {
            "colorbar": {
             "outlinewidth": 0,
             "ticks": ""
            },
            "type": "choropleth"
           }
          ],
          "contour": [
           {
            "colorbar": {
             "outlinewidth": 0,
             "ticks": ""
            },
            "colorscale": [
             [
              0,
              "#0d0887"
             ],
             [
              0.1111111111111111,
              "#46039f"
             ],
             [
              0.2222222222222222,
              "#7201a8"
             ],
             [
              0.3333333333333333,
              "#9c179e"
             ],
             [
              0.4444444444444444,
              "#bd3786"
             ],
             [
              0.5555555555555556,
              "#d8576b"
             ],
             [
              0.6666666666666666,
              "#ed7953"
             ],
             [
              0.7777777777777778,
              "#fb9f3a"
             ],
             [
              0.8888888888888888,
              "#fdca26"
             ],
             [
              1,
              "#f0f921"
             ]
            ],
            "type": "contour"
           }
          ],
          "contourcarpet": [
           {
            "colorbar": {
             "outlinewidth": 0,
             "ticks": ""
            },
            "type": "contourcarpet"
           }
          ],
          "heatmap": [
           {
            "colorbar": {
             "outlinewidth": 0,
             "ticks": ""
            },
            "colorscale": [
             [
              0,
              "#0d0887"
             ],
             [
              0.1111111111111111,
              "#46039f"
             ],
             [
              0.2222222222222222,
              "#7201a8"
             ],
             [
              0.3333333333333333,
              "#9c179e"
             ],
             [
              0.4444444444444444,
              "#bd3786"
             ],
             [
              0.5555555555555556,
              "#d8576b"
             ],
             [
              0.6666666666666666,
              "#ed7953"
             ],
             [
              0.7777777777777778,
              "#fb9f3a"
             ],
             [
              0.8888888888888888,
              "#fdca26"
             ],
             [
              1,
              "#f0f921"
             ]
            ],
            "type": "heatmap"
           }
          ],
          "heatmapgl": [
           {
            "colorbar": {
             "outlinewidth": 0,
             "ticks": ""
            },
            "colorscale": [
             [
              0,
              "#0d0887"
             ],
             [
              0.1111111111111111,
              "#46039f"
             ],
             [
              0.2222222222222222,
              "#7201a8"
             ],
             [
              0.3333333333333333,
              "#9c179e"
             ],
             [
              0.4444444444444444,
              "#bd3786"
             ],
             [
              0.5555555555555556,
              "#d8576b"
             ],
             [
              0.6666666666666666,
              "#ed7953"
             ],
             [
              0.7777777777777778,
              "#fb9f3a"
             ],
             [
              0.8888888888888888,
              "#fdca26"
             ],
             [
              1,
              "#f0f921"
             ]
            ],
            "type": "heatmapgl"
           }
          ],
          "histogram": [
           {
            "marker": {
             "pattern": {
              "fillmode": "overlay",
              "size": 10,
              "solidity": 0.2
             }
            },
            "type": "histogram"
           }
          ],
          "histogram2d": [
           {
            "colorbar": {
             "outlinewidth": 0,
             "ticks": ""
            },
            "colorscale": [
             [
              0,
              "#0d0887"
             ],
             [
              0.1111111111111111,
              "#46039f"
             ],
             [
              0.2222222222222222,
              "#7201a8"
             ],
             [
              0.3333333333333333,
              "#9c179e"
             ],
             [
              0.4444444444444444,
              "#bd3786"
             ],
             [
              0.5555555555555556,
              "#d8576b"
             ],
             [
              0.6666666666666666,
              "#ed7953"
             ],
             [
              0.7777777777777778,
              "#fb9f3a"
             ],
             [
              0.8888888888888888,
              "#fdca26"
             ],
             [
              1,
              "#f0f921"
             ]
            ],
            "type": "histogram2d"
           }
          ],
          "histogram2dcontour": [
           {
            "colorbar": {
             "outlinewidth": 0,
             "ticks": ""
            },
            "colorscale": [
             [
              0,
              "#0d0887"
             ],
             [
              0.1111111111111111,
              "#46039f"
             ],
             [
              0.2222222222222222,
              "#7201a8"
             ],
             [
              0.3333333333333333,
              "#9c179e"
             ],
             [
              0.4444444444444444,
              "#bd3786"
             ],
             [
              0.5555555555555556,
              "#d8576b"
             ],
             [
              0.6666666666666666,
              "#ed7953"
             ],
             [
              0.7777777777777778,
              "#fb9f3a"
             ],
             [
              0.8888888888888888,
              "#fdca26"
             ],
             [
              1,
              "#f0f921"
             ]
            ],
            "type": "histogram2dcontour"
           }
          ],
          "mesh3d": [
           {
            "colorbar": {
             "outlinewidth": 0,
             "ticks": ""
            },
            "type": "mesh3d"
           }
          ],
          "parcoords": [
           {
            "line": {
             "colorbar": {
              "outlinewidth": 0,
              "ticks": ""
             }
            },
            "type": "parcoords"
           }
          ],
          "pie": [
           {
            "automargin": true,
            "type": "pie"
           }
          ],
          "scatter": [
           {
            "fillpattern": {
             "fillmode": "overlay",
             "size": 10,
             "solidity": 0.2
            },
            "type": "scatter"
           }
          ],
          "scatter3d": [
           {
            "line": {
             "colorbar": {
              "outlinewidth": 0,
              "ticks": ""
             }
            },
            "marker": {
             "colorbar": {
              "outlinewidth": 0,
              "ticks": ""
             }
            },
            "type": "scatter3d"
           }
          ],
          "scattercarpet": [
           {
            "marker": {
             "colorbar": {
              "outlinewidth": 0,
              "ticks": ""
             }
            },
            "type": "scattercarpet"
           }
          ],
          "scattergeo": [
           {
            "marker": {
             "colorbar": {
              "outlinewidth": 0,
              "ticks": ""
             }
            },
            "type": "scattergeo"
           }
          ],
          "scattergl": [
           {
            "marker": {
             "colorbar": {
              "outlinewidth": 0,
              "ticks": ""
             }
            },
            "type": "scattergl"
           }
          ],
          "scattermapbox": [
           {
            "marker": {
             "colorbar": {
              "outlinewidth": 0,
              "ticks": ""
             }
            },
            "type": "scattermapbox"
           }
          ],
          "scatterpolar": [
           {
            "marker": {
             "colorbar": {
              "outlinewidth": 0,
              "ticks": ""
             }
            },
            "type": "scatterpolar"
           }
          ],
          "scatterpolargl": [
           {
            "marker": {
             "colorbar": {
              "outlinewidth": 0,
              "ticks": ""
             }
            },
            "type": "scatterpolargl"
           }
          ],
          "scatterternary": [
           {
            "marker": {
             "colorbar": {
              "outlinewidth": 0,
              "ticks": ""
             }
            },
            "type": "scatterternary"
           }
          ],
          "surface": [
           {
            "colorbar": {
             "outlinewidth": 0,
             "ticks": ""
            },
            "colorscale": [
             [
              0,
              "#0d0887"
             ],
             [
              0.1111111111111111,
              "#46039f"
             ],
             [
              0.2222222222222222,
              "#7201a8"
             ],
             [
              0.3333333333333333,
              "#9c179e"
             ],
             [
              0.4444444444444444,
              "#bd3786"
             ],
             [
              0.5555555555555556,
              "#d8576b"
             ],
             [
              0.6666666666666666,
              "#ed7953"
             ],
             [
              0.7777777777777778,
              "#fb9f3a"
             ],
             [
              0.8888888888888888,
              "#fdca26"
             ],
             [
              1,
              "#f0f921"
             ]
            ],
            "type": "surface"
           }
          ],
          "table": [
           {
            "cells": {
             "fill": {
              "color": "#EBF0F8"
             },
             "line": {
              "color": "white"
             }
            },
            "header": {
             "fill": {
              "color": "#C8D4E3"
             },
             "line": {
              "color": "white"
             }
            },
            "type": "table"
           }
          ]
         },
         "layout": {
          "annotationdefaults": {
           "arrowcolor": "#2a3f5f",
           "arrowhead": 0,
           "arrowwidth": 1
          },
          "autotypenumbers": "strict",
          "coloraxis": {
           "colorbar": {
            "outlinewidth": 0,
            "ticks": ""
           }
          },
          "colorscale": {
           "diverging": [
            [
             0,
             "#8e0152"
            ],
            [
             0.1,
             "#c51b7d"
            ],
            [
             0.2,
             "#de77ae"
            ],
            [
             0.3,
             "#f1b6da"
            ],
            [
             0.4,
             "#fde0ef"
            ],
            [
             0.5,
             "#f7f7f7"
            ],
            [
             0.6,
             "#e6f5d0"
            ],
            [
             0.7,
             "#b8e186"
            ],
            [
             0.8,
             "#7fbc41"
            ],
            [
             0.9,
             "#4d9221"
            ],
            [
             1,
             "#276419"
            ]
           ],
           "sequential": [
            [
             0,
             "#0d0887"
            ],
            [
             0.1111111111111111,
             "#46039f"
            ],
            [
             0.2222222222222222,
             "#7201a8"
            ],
            [
             0.3333333333333333,
             "#9c179e"
            ],
            [
             0.4444444444444444,
             "#bd3786"
            ],
            [
             0.5555555555555556,
             "#d8576b"
            ],
            [
             0.6666666666666666,
             "#ed7953"
            ],
            [
             0.7777777777777778,
             "#fb9f3a"
            ],
            [
             0.8888888888888888,
             "#fdca26"
            ],
            [
             1,
             "#f0f921"
            ]
           ],
           "sequentialminus": [
            [
             0,
             "#0d0887"
            ],
            [
             0.1111111111111111,
             "#46039f"
            ],
            [
             0.2222222222222222,
             "#7201a8"
            ],
            [
             0.3333333333333333,
             "#9c179e"
            ],
            [
             0.4444444444444444,
             "#bd3786"
            ],
            [
             0.5555555555555556,
             "#d8576b"
            ],
            [
             0.6666666666666666,
             "#ed7953"
            ],
            [
             0.7777777777777778,
             "#fb9f3a"
            ],
            [
             0.8888888888888888,
             "#fdca26"
            ],
            [
             1,
             "#f0f921"
            ]
           ]
          },
          "colorway": [
           "#636efa",
           "#EF553B",
           "#00cc96",
           "#ab63fa",
           "#FFA15A",
           "#19d3f3",
           "#FF6692",
           "#B6E880",
           "#FF97FF",
           "#FECB52"
          ],
          "font": {
           "color": "#2a3f5f"
          },
          "geo": {
           "bgcolor": "white",
           "lakecolor": "white",
           "landcolor": "white",
           "showlakes": true,
           "showland": true,
           "subunitcolor": "#C8D4E3"
          },
          "hoverlabel": {
           "align": "left"
          },
          "hovermode": "closest",
          "mapbox": {
           "style": "light"
          },
          "paper_bgcolor": "white",
          "plot_bgcolor": "white",
          "polar": {
           "angularaxis": {
            "gridcolor": "#EBF0F8",
            "linecolor": "#EBF0F8",
            "ticks": ""
           },
           "bgcolor": "white",
           "radialaxis": {
            "gridcolor": "#EBF0F8",
            "linecolor": "#EBF0F8",
            "ticks": ""
           }
          },
          "scene": {
           "xaxis": {
            "backgroundcolor": "white",
            "gridcolor": "#DFE8F3",
            "gridwidth": 2,
            "linecolor": "#EBF0F8",
            "showbackground": true,
            "ticks": "",
            "zerolinecolor": "#EBF0F8"
           },
           "yaxis": {
            "backgroundcolor": "white",
            "gridcolor": "#DFE8F3",
            "gridwidth": 2,
            "linecolor": "#EBF0F8",
            "showbackground": true,
            "ticks": "",
            "zerolinecolor": "#EBF0F8"
           },
           "zaxis": {
            "backgroundcolor": "white",
            "gridcolor": "#DFE8F3",
            "gridwidth": 2,
            "linecolor": "#EBF0F8",
            "showbackground": true,
            "ticks": "",
            "zerolinecolor": "#EBF0F8"
           }
          },
          "shapedefaults": {
           "line": {
            "color": "#2a3f5f"
           }
          },
          "ternary": {
           "aaxis": {
            "gridcolor": "#DFE8F3",
            "linecolor": "#A2B1C6",
            "ticks": ""
           },
           "baxis": {
            "gridcolor": "#DFE8F3",
            "linecolor": "#A2B1C6",
            "ticks": ""
           },
           "bgcolor": "white",
           "caxis": {
            "gridcolor": "#DFE8F3",
            "linecolor": "#A2B1C6",
            "ticks": ""
           }
          },
          "title": {
           "x": 0.05
          },
          "xaxis": {
           "automargin": true,
           "gridcolor": "#EBF0F8",
           "linecolor": "#EBF0F8",
           "ticks": "",
           "title": {
            "standoff": 15
           },
           "zerolinecolor": "#EBF0F8",
           "zerolinewidth": 2
          },
          "yaxis": {
           "automargin": true,
           "gridcolor": "#EBF0F8",
           "linecolor": "#EBF0F8",
           "ticks": "",
           "title": {
            "standoff": 15
           },
           "zerolinecolor": "#EBF0F8",
           "zerolinewidth": 2
          }
         }
        },
        "title": {
         "text": "<b>Humedad Diaria</b>",
         "x": 0.02,
         "xanchor": "left"
        },
        "xaxis": {
         "gridcolor": "rgba(200,200,200,0.2)",
         "showgrid": true,
         "tickangle": -45,
         "title": {
          "text": "Fecha"
         }
        },
        "yaxis": {
         "gridcolor": "rgba(200,200,200,0.2)",
         "showgrid": true,
         "title": {
          "text": "Humedad (%)"
         }
        }
       }
      }
     },
     "metadata": {},
     "output_type": "display_data"
    }
   ],
   "source": [
    "def make_humidity_scatter_series(df_daily):\n",
    "\n",
    "    fig = go.Figure()\n",
    "    fig.add_trace(go.Scatter(\n",
    "        x=df_daily.index, y=df_daily.values, name=\"Humedad (%)\",\n",
    "        mode=\"lines+markers\", line=dict(color=\"#4169E1\", width=3, shape=\"spline\"),\n",
    "        marker=dict(size=6), hovertemplate=\"%{x|%d %b}<br>%{y:.0f}%<extra></extra>\"\n",
    "    ))\n",
    "\n",
    "\n",
    "    max_date = df_daily.idxmax()\n",
    "    max_val  = df_daily.max()\n",
    "    fig.add_annotation(\n",
    "        x=max_date, y=max_val,\n",
    "        text=f\"Máx: {max_val:.1f} %\",\n",
    "        showarrow=True, arrowhead=2, ax=0, ay=-30,\n",
    "        font=dict(size=12, family=\"Arial\", color=\"#4169E1\")\n",
    "    )\n",
    "\n",
    "    min_date = df_daily.idxmin()\n",
    "    min_val  = df_daily.min()\n",
    "    fig.add_annotation(\n",
    "        x=min_date, y=min_val,\n",
    "        text=f\"Mín: {min_val:.1f} %\",\n",
    "        showarrow=True, arrowhead=2, ax=0, ay=30,\n",
    "        font=dict(size=12, family=\"Arial\", color=\"#4169E1\")\n",
    "    )\n",
    "\n",
    "\n",
    "    avg = df_daily.mean()\n",
    "    fig.add_hline(\n",
    "        y=avg,\n",
    "        line_dash=\"dash\",\n",
    "        annotation_text=f\"Media: {avg:.1f}%\",\n",
    "        annotation_position=\"bottom right\",\n",
    "        opacity=0.7\n",
    "    )\n",
    "\n",
    "       \n",
    "    # 5) Layout general + mejora de ejes\n",
    "    fig.update_layout(\n",
    "        title=dict(text=\"<b>Humedad Diaria</b>\", x=0.02, xanchor=\"left\"),\n",
    "        template=\"plotly_white\",\n",
    "        margin=dict(l=30, r=20, t=60, b=40),\n",
    "        hovermode=\"x unified\",\n",
    "        bargap=0.2,\n",
    "        xaxis=dict(\n",
    "            title=\"Fecha\",\n",
    "            showgrid=True,\n",
    "            gridcolor=\"rgba(200,200,200,0.2)\",\n",
    "            tickangle=-45,\n",
    "        ),\n",
    "        yaxis=dict(title=\"Humedad (%)\",\n",
    "                   showgrid=True, gridcolor=\"rgba(200,200,200,0.2)\")\n",
    "    )\n",
    "\n",
    "    \n",
    "    \n",
    "    return fig\n",
    "\n",
    "\n",
    "\n",
    "\n",
    "bar = make_humidity_scatter_series(df_hum_daily)\n",
    "bar.show()\n"
   ]
  },
  {
   "cell_type": "code",
   "execution_count": 18,
   "id": "43b85c59",
   "metadata": {},
   "outputs": [
    {
     "data": {
      "application/vnd.plotly.v1+json": {
       "config": {
        "plotlyServerURL": "https://plot.ly"
       },
       "data": [
        {
         "hovertemplate": "%{x|%d %b %Y}<br><b>%{y:.1f} mm</b><extra></extra>",
         "marker": {
          "color": "rgba(30,144,255,0.6)",
          "line": {
           "color": "rgba(30,144,255,1)",
           "width": 1.5
          }
         },
         "name": "Lluvia (mm)",
         "type": "bar",
         "width": 69120000.00000001,
         "x": [
          "2025-03-18T00:00:00",
          "2025-03-19T00:00:00",
          "2025-03-20T00:00:00",
          "2025-03-21T00:00:00",
          "2025-03-22T00:00:00",
          "2025-03-23T00:00:00",
          "2025-03-24T00:00:00",
          "2025-03-25T00:00:00",
          "2025-03-26T00:00:00",
          "2025-03-27T00:00:00",
          "2025-03-28T00:00:00",
          "2025-03-29T00:00:00",
          "2025-03-30T00:00:00",
          "2025-03-31T00:00:00",
          "2025-04-01T00:00:00",
          "2025-04-02T00:00:00",
          "2025-04-03T00:00:00",
          "2025-04-04T00:00:00",
          "2025-04-05T00:00:00",
          "2025-04-06T00:00:00",
          "2025-04-07T00:00:00",
          "2025-04-08T00:00:00",
          "2025-04-09T00:00:00",
          "2025-04-10T00:00:00",
          "2025-04-11T00:00:00",
          "2025-04-12T00:00:00",
          "2025-04-13T00:00:00",
          "2025-04-14T00:00:00",
          "2025-04-15T00:00:00",
          "2025-04-16T00:00:00",
          "2025-04-17T00:00:00",
          "2025-04-18T00:00:00",
          "2025-04-19T00:00:00",
          "2025-04-20T00:00:00",
          "2025-04-21T00:00:00",
          "2025-04-22T00:00:00",
          "2025-04-23T00:00:00",
          "2025-04-24T00:00:00",
          "2025-04-25T00:00:00",
          "2025-04-26T00:00:00",
          "2025-04-27T00:00:00",
          "2025-04-28T00:00:00",
          "2025-04-29T00:00:00",
          "2025-04-30T00:00:00",
          "2025-05-01T00:00:00",
          "2025-05-02T00:00:00",
          "2025-05-03T00:00:00",
          "2025-05-04T00:00:00"
         ],
         "xaxis": "x",
         "y": [
          0,
          0,
          0,
          0,
          0,
          0,
          0,
          0,
          0,
          0,
          0,
          0,
          5.8,
          0.1,
          0,
          0,
          0,
          0,
          0,
          0,
          0,
          0,
          0,
          0,
          0,
          0,
          0,
          0,
          0,
          0,
          0,
          0,
          0,
          0,
          0,
          0,
          0,
          0,
          0,
          0,
          0,
          0,
          0,
          10,
          10,
          33,
          0,
          0
         ],
         "yaxis": "y"
        },
        {
         "hovertemplate": "%{x|%d %b %Y}<br><b>%{y:.0f} %</b><extra></extra>",
         "line": {
          "color": "#4169E1",
          "shape": "spline",
          "width": 3
         },
         "marker": {
          "size": 6
         },
         "mode": "lines+markers",
         "name": "Humedad (%)",
         "type": "scatter",
         "x": [
          "2025-03-18T00:00:00",
          "2025-03-19T00:00:00",
          "2025-03-20T00:00:00",
          "2025-03-21T00:00:00",
          "2025-03-22T00:00:00",
          "2025-03-23T00:00:00",
          "2025-03-24T00:00:00",
          "2025-03-25T00:00:00",
          "2025-03-26T00:00:00",
          "2025-03-27T00:00:00",
          "2025-03-28T00:00:00",
          "2025-03-29T00:00:00",
          "2025-03-30T00:00:00",
          "2025-03-31T00:00:00",
          "2025-04-01T00:00:00",
          "2025-04-02T00:00:00",
          "2025-04-03T00:00:00",
          "2025-04-04T00:00:00",
          "2025-04-05T00:00:00",
          "2025-04-06T00:00:00",
          "2025-04-07T00:00:00",
          "2025-04-08T00:00:00",
          "2025-04-09T00:00:00",
          "2025-04-10T00:00:00",
          "2025-04-11T00:00:00",
          "2025-04-12T00:00:00",
          "2025-04-13T00:00:00",
          "2025-04-14T00:00:00",
          "2025-04-15T00:00:00",
          "2025-04-16T00:00:00",
          "2025-04-17T00:00:00",
          "2025-04-18T00:00:00",
          "2025-04-19T00:00:00",
          "2025-04-20T00:00:00",
          "2025-04-21T00:00:00",
          "2025-04-22T00:00:00",
          "2025-04-23T00:00:00",
          "2025-04-24T00:00:00",
          "2025-04-25T00:00:00",
          "2025-04-26T00:00:00",
          "2025-04-27T00:00:00",
          "2025-04-28T00:00:00",
          "2025-04-29T00:00:00",
          "2025-04-30T00:00:00",
          "2025-05-01T00:00:00",
          "2025-05-02T00:00:00",
          "2025-05-03T00:00:00",
          "2025-05-04T00:00:00"
         ],
         "xaxis": "x",
         "y": [
          87.25,
          72.75,
          64.04166666666667,
          77,
          83.16666666666667,
          90.4,
          78.54166666666667,
          80.43478260869566,
          72.41666666666667,
          85.08333333333333,
          69.83333333333333,
          64.54166666666667,
          71.875,
          77.04166666666667,
          64.95833333333333,
          66,
          51.916666666666664,
          55.958333333333336,
          52.041666666666664,
          47.791666666666664,
          46.041666666666664,
          49.625,
          52.541666666666664,
          64.54166666666667,
          67.25,
          68.45833333333333,
          60.5,
          59.041666666666664,
          64.33333333333333,
          61.041666666666664,
          64.04166666666667,
          71.79166666666667,
          73.23076923076923,
          79,
          59.7,
          70.70833333333333,
          63.333333333333336,
          58,
          57.869565217391305,
          63.64,
          61.642857142857146,
          34.111111111111114,
          62.8,
          70.22222222222223,
          62.56521739130435,
          66.3157894736842,
          0,
          79
         ],
         "yaxis": "y2"
        }
       ],
       "layout": {
        "annotations": [
         {
          "arrowhead": 2,
          "ax": 0,
          "ay": -30,
          "font": {
           "color": "#1E90FF",
           "family": "Arial",
           "size": 12
          },
          "showarrow": true,
          "text": "Máx lluvia: 33.0 mm",
          "x": "2025-05-02T00:00:00",
          "y": 33
         }
        ],
        "bargap": 0.2,
        "hovermode": "x unified",
        "legend": {
         "orientation": "h",
         "x": 0.5,
         "xanchor": "center",
         "y": 1.1
        },
        "margin": {
         "b": 40,
         "l": 30,
         "r": 20,
         "t": 60
        },
        "template": {
         "data": {
          "bar": [
           {
            "error_x": {
             "color": "#2a3f5f"
            },
            "error_y": {
             "color": "#2a3f5f"
            },
            "marker": {
             "line": {
              "color": "white",
              "width": 0.5
             },
             "pattern": {
              "fillmode": "overlay",
              "size": 10,
              "solidity": 0.2
             }
            },
            "type": "bar"
           }
          ],
          "barpolar": [
           {
            "marker": {
             "line": {
              "color": "white",
              "width": 0.5
             },
             "pattern": {
              "fillmode": "overlay",
              "size": 10,
              "solidity": 0.2
             }
            },
            "type": "barpolar"
           }
          ],
          "carpet": [
           {
            "aaxis": {
             "endlinecolor": "#2a3f5f",
             "gridcolor": "#C8D4E3",
             "linecolor": "#C8D4E3",
             "minorgridcolor": "#C8D4E3",
             "startlinecolor": "#2a3f5f"
            },
            "baxis": {
             "endlinecolor": "#2a3f5f",
             "gridcolor": "#C8D4E3",
             "linecolor": "#C8D4E3",
             "minorgridcolor": "#C8D4E3",
             "startlinecolor": "#2a3f5f"
            },
            "type": "carpet"
           }
          ],
          "choropleth": [
           {
            "colorbar": {
             "outlinewidth": 0,
             "ticks": ""
            },
            "type": "choropleth"
           }
          ],
          "contour": [
           {
            "colorbar": {
             "outlinewidth": 0,
             "ticks": ""
            },
            "colorscale": [
             [
              0,
              "#0d0887"
             ],
             [
              0.1111111111111111,
              "#46039f"
             ],
             [
              0.2222222222222222,
              "#7201a8"
             ],
             [
              0.3333333333333333,
              "#9c179e"
             ],
             [
              0.4444444444444444,
              "#bd3786"
             ],
             [
              0.5555555555555556,
              "#d8576b"
             ],
             [
              0.6666666666666666,
              "#ed7953"
             ],
             [
              0.7777777777777778,
              "#fb9f3a"
             ],
             [
              0.8888888888888888,
              "#fdca26"
             ],
             [
              1,
              "#f0f921"
             ]
            ],
            "type": "contour"
           }
          ],
          "contourcarpet": [
           {
            "colorbar": {
             "outlinewidth": 0,
             "ticks": ""
            },
            "type": "contourcarpet"
           }
          ],
          "heatmap": [
           {
            "colorbar": {
             "outlinewidth": 0,
             "ticks": ""
            },
            "colorscale": [
             [
              0,
              "#0d0887"
             ],
             [
              0.1111111111111111,
              "#46039f"
             ],
             [
              0.2222222222222222,
              "#7201a8"
             ],
             [
              0.3333333333333333,
              "#9c179e"
             ],
             [
              0.4444444444444444,
              "#bd3786"
             ],
             [
              0.5555555555555556,
              "#d8576b"
             ],
             [
              0.6666666666666666,
              "#ed7953"
             ],
             [
              0.7777777777777778,
              "#fb9f3a"
             ],
             [
              0.8888888888888888,
              "#fdca26"
             ],
             [
              1,
              "#f0f921"
             ]
            ],
            "type": "heatmap"
           }
          ],
          "heatmapgl": [
           {
            "colorbar": {
             "outlinewidth": 0,
             "ticks": ""
            },
            "colorscale": [
             [
              0,
              "#0d0887"
             ],
             [
              0.1111111111111111,
              "#46039f"
             ],
             [
              0.2222222222222222,
              "#7201a8"
             ],
             [
              0.3333333333333333,
              "#9c179e"
             ],
             [
              0.4444444444444444,
              "#bd3786"
             ],
             [
              0.5555555555555556,
              "#d8576b"
             ],
             [
              0.6666666666666666,
              "#ed7953"
             ],
             [
              0.7777777777777778,
              "#fb9f3a"
             ],
             [
              0.8888888888888888,
              "#fdca26"
             ],
             [
              1,
              "#f0f921"
             ]
            ],
            "type": "heatmapgl"
           }
          ],
          "histogram": [
           {
            "marker": {
             "pattern": {
              "fillmode": "overlay",
              "size": 10,
              "solidity": 0.2
             }
            },
            "type": "histogram"
           }
          ],
          "histogram2d": [
           {
            "colorbar": {
             "outlinewidth": 0,
             "ticks": ""
            },
            "colorscale": [
             [
              0,
              "#0d0887"
             ],
             [
              0.1111111111111111,
              "#46039f"
             ],
             [
              0.2222222222222222,
              "#7201a8"
             ],
             [
              0.3333333333333333,
              "#9c179e"
             ],
             [
              0.4444444444444444,
              "#bd3786"
             ],
             [
              0.5555555555555556,
              "#d8576b"
             ],
             [
              0.6666666666666666,
              "#ed7953"
             ],
             [
              0.7777777777777778,
              "#fb9f3a"
             ],
             [
              0.8888888888888888,
              "#fdca26"
             ],
             [
              1,
              "#f0f921"
             ]
            ],
            "type": "histogram2d"
           }
          ],
          "histogram2dcontour": [
           {
            "colorbar": {
             "outlinewidth": 0,
             "ticks": ""
            },
            "colorscale": [
             [
              0,
              "#0d0887"
             ],
             [
              0.1111111111111111,
              "#46039f"
             ],
             [
              0.2222222222222222,
              "#7201a8"
             ],
             [
              0.3333333333333333,
              "#9c179e"
             ],
             [
              0.4444444444444444,
              "#bd3786"
             ],
             [
              0.5555555555555556,
              "#d8576b"
             ],
             [
              0.6666666666666666,
              "#ed7953"
             ],
             [
              0.7777777777777778,
              "#fb9f3a"
             ],
             [
              0.8888888888888888,
              "#fdca26"
             ],
             [
              1,
              "#f0f921"
             ]
            ],
            "type": "histogram2dcontour"
           }
          ],
          "mesh3d": [
           {
            "colorbar": {
             "outlinewidth": 0,
             "ticks": ""
            },
            "type": "mesh3d"
           }
          ],
          "parcoords": [
           {
            "line": {
             "colorbar": {
              "outlinewidth": 0,
              "ticks": ""
             }
            },
            "type": "parcoords"
           }
          ],
          "pie": [
           {
            "automargin": true,
            "type": "pie"
           }
          ],
          "scatter": [
           {
            "fillpattern": {
             "fillmode": "overlay",
             "size": 10,
             "solidity": 0.2
            },
            "type": "scatter"
           }
          ],
          "scatter3d": [
           {
            "line": {
             "colorbar": {
              "outlinewidth": 0,
              "ticks": ""
             }
            },
            "marker": {
             "colorbar": {
              "outlinewidth": 0,
              "ticks": ""
             }
            },
            "type": "scatter3d"
           }
          ],
          "scattercarpet": [
           {
            "marker": {
             "colorbar": {
              "outlinewidth": 0,
              "ticks": ""
             }
            },
            "type": "scattercarpet"
           }
          ],
          "scattergeo": [
           {
            "marker": {
             "colorbar": {
              "outlinewidth": 0,
              "ticks": ""
             }
            },
            "type": "scattergeo"
           }
          ],
          "scattergl": [
           {
            "marker": {
             "colorbar": {
              "outlinewidth": 0,
              "ticks": ""
             }
            },
            "type": "scattergl"
           }
          ],
          "scattermapbox": [
           {
            "marker": {
             "colorbar": {
              "outlinewidth": 0,
              "ticks": ""
             }
            },
            "type": "scattermapbox"
           }
          ],
          "scatterpolar": [
           {
            "marker": {
             "colorbar": {
              "outlinewidth": 0,
              "ticks": ""
             }
            },
            "type": "scatterpolar"
           }
          ],
          "scatterpolargl": [
           {
            "marker": {
             "colorbar": {
              "outlinewidth": 0,
              "ticks": ""
             }
            },
            "type": "scatterpolargl"
           }
          ],
          "scatterternary": [
           {
            "marker": {
             "colorbar": {
              "outlinewidth": 0,
              "ticks": ""
             }
            },
            "type": "scatterternary"
           }
          ],
          "surface": [
           {
            "colorbar": {
             "outlinewidth": 0,
             "ticks": ""
            },
            "colorscale": [
             [
              0,
              "#0d0887"
             ],
             [
              0.1111111111111111,
              "#46039f"
             ],
             [
              0.2222222222222222,
              "#7201a8"
             ],
             [
              0.3333333333333333,
              "#9c179e"
             ],
             [
              0.4444444444444444,
              "#bd3786"
             ],
             [
              0.5555555555555556,
              "#d8576b"
             ],
             [
              0.6666666666666666,
              "#ed7953"
             ],
             [
              0.7777777777777778,
              "#fb9f3a"
             ],
             [
              0.8888888888888888,
              "#fdca26"
             ],
             [
              1,
              "#f0f921"
             ]
            ],
            "type": "surface"
           }
          ],
          "table": [
           {
            "cells": {
             "fill": {
              "color": "#EBF0F8"
             },
             "line": {
              "color": "white"
             }
            },
            "header": {
             "fill": {
              "color": "#C8D4E3"
             },
             "line": {
              "color": "white"
             }
            },
            "type": "table"
           }
          ]
         },
         "layout": {
          "annotationdefaults": {
           "arrowcolor": "#2a3f5f",
           "arrowhead": 0,
           "arrowwidth": 1
          },
          "autotypenumbers": "strict",
          "coloraxis": {
           "colorbar": {
            "outlinewidth": 0,
            "ticks": ""
           }
          },
          "colorscale": {
           "diverging": [
            [
             0,
             "#8e0152"
            ],
            [
             0.1,
             "#c51b7d"
            ],
            [
             0.2,
             "#de77ae"
            ],
            [
             0.3,
             "#f1b6da"
            ],
            [
             0.4,
             "#fde0ef"
            ],
            [
             0.5,
             "#f7f7f7"
            ],
            [
             0.6,
             "#e6f5d0"
            ],
            [
             0.7,
             "#b8e186"
            ],
            [
             0.8,
             "#7fbc41"
            ],
            [
             0.9,
             "#4d9221"
            ],
            [
             1,
             "#276419"
            ]
           ],
           "sequential": [
            [
             0,
             "#0d0887"
            ],
            [
             0.1111111111111111,
             "#46039f"
            ],
            [
             0.2222222222222222,
             "#7201a8"
            ],
            [
             0.3333333333333333,
             "#9c179e"
            ],
            [
             0.4444444444444444,
             "#bd3786"
            ],
            [
             0.5555555555555556,
             "#d8576b"
            ],
            [
             0.6666666666666666,
             "#ed7953"
            ],
            [
             0.7777777777777778,
             "#fb9f3a"
            ],
            [
             0.8888888888888888,
             "#fdca26"
            ],
            [
             1,
             "#f0f921"
            ]
           ],
           "sequentialminus": [
            [
             0,
             "#0d0887"
            ],
            [
             0.1111111111111111,
             "#46039f"
            ],
            [
             0.2222222222222222,
             "#7201a8"
            ],
            [
             0.3333333333333333,
             "#9c179e"
            ],
            [
             0.4444444444444444,
             "#bd3786"
            ],
            [
             0.5555555555555556,
             "#d8576b"
            ],
            [
             0.6666666666666666,
             "#ed7953"
            ],
            [
             0.7777777777777778,
             "#fb9f3a"
            ],
            [
             0.8888888888888888,
             "#fdca26"
            ],
            [
             1,
             "#f0f921"
            ]
           ]
          },
          "colorway": [
           "#636efa",
           "#EF553B",
           "#00cc96",
           "#ab63fa",
           "#FFA15A",
           "#19d3f3",
           "#FF6692",
           "#B6E880",
           "#FF97FF",
           "#FECB52"
          ],
          "font": {
           "color": "#2a3f5f"
          },
          "geo": {
           "bgcolor": "white",
           "lakecolor": "white",
           "landcolor": "white",
           "showlakes": true,
           "showland": true,
           "subunitcolor": "#C8D4E3"
          },
          "hoverlabel": {
           "align": "left"
          },
          "hovermode": "closest",
          "mapbox": {
           "style": "light"
          },
          "paper_bgcolor": "white",
          "plot_bgcolor": "white",
          "polar": {
           "angularaxis": {
            "gridcolor": "#EBF0F8",
            "linecolor": "#EBF0F8",
            "ticks": ""
           },
           "bgcolor": "white",
           "radialaxis": {
            "gridcolor": "#EBF0F8",
            "linecolor": "#EBF0F8",
            "ticks": ""
           }
          },
          "scene": {
           "xaxis": {
            "backgroundcolor": "white",
            "gridcolor": "#DFE8F3",
            "gridwidth": 2,
            "linecolor": "#EBF0F8",
            "showbackground": true,
            "ticks": "",
            "zerolinecolor": "#EBF0F8"
           },
           "yaxis": {
            "backgroundcolor": "white",
            "gridcolor": "#DFE8F3",
            "gridwidth": 2,
            "linecolor": "#EBF0F8",
            "showbackground": true,
            "ticks": "",
            "zerolinecolor": "#EBF0F8"
           },
           "zaxis": {
            "backgroundcolor": "white",
            "gridcolor": "#DFE8F3",
            "gridwidth": 2,
            "linecolor": "#EBF0F8",
            "showbackground": true,
            "ticks": "",
            "zerolinecolor": "#EBF0F8"
           }
          },
          "shapedefaults": {
           "line": {
            "color": "#2a3f5f"
           }
          },
          "ternary": {
           "aaxis": {
            "gridcolor": "#DFE8F3",
            "linecolor": "#A2B1C6",
            "ticks": ""
           },
           "baxis": {
            "gridcolor": "#DFE8F3",
            "linecolor": "#A2B1C6",
            "ticks": ""
           },
           "bgcolor": "white",
           "caxis": {
            "gridcolor": "#DFE8F3",
            "linecolor": "#A2B1C6",
            "ticks": ""
           }
          },
          "title": {
           "x": 0.05
          },
          "xaxis": {
           "automargin": true,
           "gridcolor": "#EBF0F8",
           "linecolor": "#EBF0F8",
           "ticks": "",
           "title": {
            "standoff": 15
           },
           "zerolinecolor": "#EBF0F8",
           "zerolinewidth": 2
          },
          "yaxis": {
           "automargin": true,
           "gridcolor": "#EBF0F8",
           "linecolor": "#EBF0F8",
           "ticks": "",
           "title": {
            "standoff": 15
           },
           "zerolinecolor": "#EBF0F8",
           "zerolinewidth": 2
          }
         }
        },
        "title": {
         "text": "<b>Precipitación y Humedad Diaria</b>",
         "x": 0.02,
         "xanchor": "left"
        },
        "xaxis": {
         "anchor": "y",
         "domain": [
          0,
          0.94
         ],
         "gridcolor": "rgba(200,200,200,0.2)",
         "showgrid": true,
         "tickangle": -45,
         "ticklabelmode": "period",
         "tickmode": "array",
         "ticktext": [
          "01 Mar",
          "24 Mar",
          "30 Mar",
          "31 Mar",
          "01 Apr",
          "07 Apr",
          "14 Apr",
          "21 Apr",
          "28 Apr",
          "30 Apr",
          "01 May",
          "02 May"
         ],
         "tickvals": [
          "2025-03-01T00:00:00",
          "2025-03-24T00:00:00",
          "2025-03-30T00:00:00",
          "2025-03-31T00:00:00",
          "2025-04-01T00:00:00",
          "2025-04-07T00:00:00",
          "2025-04-14T00:00:00",
          "2025-04-21T00:00:00",
          "2025-04-28T00:00:00",
          "2025-04-30T00:00:00",
          "2025-05-01T00:00:00",
          "2025-05-02T00:00:00"
         ],
         "title": {
          "text": "Fecha"
         }
        },
        "yaxis": {
         "anchor": "x",
         "domain": [
          0,
          1
         ],
         "gridcolor": "rgba(200,200,200,0.2)",
         "rangemode": "tozero",
         "showgrid": true,
         "title": {
          "text": "Lluvia (mm)"
         }
        },
        "yaxis2": {
         "anchor": "x",
         "gridcolor": "rgba(200,200,200,0.2)",
         "overlaying": "y",
         "rangemode": "tozero",
         "showgrid": true,
         "side": "right",
         "title": {
          "text": "Humedad (%)"
         }
        }
       }
      }
     },
     "metadata": {},
     "output_type": "display_data"
    }
   ],
   "source": [
    "def make_rain_humidity_figure(df_rain: pd.Series, df_hum: pd.Series) -> go.Figure:\n",
    "    # Aseguramos que ambos índices coincidan: unimos en un único DataFrame\n",
    "    df = pd.concat([df_rain.rename('rain'), df_hum.rename('hum')], axis=1)\n",
    "\n",
    "    # Creamos figura con eje secundario\n",
    "    fig = make_subplots(specs=[[{\"secondary_y\": True}]])\n",
    "\n",
    "    # Ticks de lluvia sólo donde hay precipitación\n",
    "    rain_non_zero = df['rain'][df['rain'] > 0].index\n",
    "\n",
    "    # 2) Primer día de cada mes en el rango\n",
    "    months = pd.date_range(start=df.index.min().replace(day=1),\n",
    "                        end=df.index.max(),\n",
    "                        freq='MS')\n",
    "\n",
    "    # 3) Un día por semana (p.ej. siempre lunes)\n",
    "    weeks = pd.date_range(start=df.index.min(), end=df.index.max(), freq='W-MON')\n",
    "\n",
    "    # Unimos y ordenamos\n",
    "    tick_vals = sorted(set(rain_non_zero) | set(months) | set(weeks))\n",
    "\n",
    "    # Y formateamos el texto (puedes ajustarlo a tu gusto)\n",
    "    tick_text = [d.strftime('%d %b') for d in tick_vals]\n",
    "\n",
    "    # 1) Trace de lluvia (barras)\n",
    "    fig.add_trace(\n",
    "        go.Bar(\n",
    "            x=df.index,\n",
    "            y=df['rain'],\n",
    "            name=\"Lluvia (mm)\",\n",
    "            width=0.8 * 24*60*60*1000,\n",
    "            marker=dict(\n",
    "                color=\"rgba(30,144,255,0.6)\",\n",
    "                line=dict(color=\"rgba(30,144,255,1)\", width=1.5)\n",
    "            ),\n",
    "            hovertemplate=\"%{x|%d %b %Y}<br><b>%{y:.1f} mm</b><extra></extra>\"\n",
    "        ),\n",
    "        secondary_y=False\n",
    "    )\n",
    "\n",
    "    # 2) Trace de humedad (línea + markers)\n",
    "    fig.add_trace(\n",
    "        go.Scatter(\n",
    "            x=df.index,\n",
    "            y=df['hum'],\n",
    "            name=\"Humedad (%)\",\n",
    "            mode=\"lines+markers\",\n",
    "            line=dict(color=\"#4169E1\", width=3, shape=\"spline\"),\n",
    "            marker=dict(size=6),\n",
    "            hovertemplate=\"%{x|%d %b %Y}<br><b>%{y:.0f} %</b><extra></extra>\"\n",
    "        ),\n",
    "        secondary_y=True\n",
    "    )\n",
    "\n",
    "    # 3) Anotaciones de máximos y mínimos\n",
    "    # Lluvia máximo\n",
    "    rain_max_date = df['rain'].idxmax()\n",
    "    rain_max_val  = df['rain'].max()\n",
    "    fig.add_annotation(\n",
    "        x=rain_max_date, y=rain_max_val,\n",
    "        text=f\"Máx lluvia: {rain_max_val:.1f} mm\",\n",
    "        showarrow=True, arrowhead=2, ax=0, ay=-30,\n",
    "        font=dict(size=12, family=\"Arial\", color=\"#1E90FF\"),\n",
    "        secondary_y=False\n",
    "    )\n",
    "    \n",
    "\n",
    "    \n",
    "\n",
    "    # 5) Layout y ejes\n",
    "    fig.update_layout(\n",
    "        title=dict(text=\"<b>Precipitación y Humedad Diaria</b>\", x=0.02, xanchor=\"left\"),\n",
    "        template=\"plotly_white\",\n",
    "        margin=dict(l=30, r=20, t=60, b=40),\n",
    "        hovermode=\"x unified\",\n",
    "        bargap=0.2,\n",
    "        legend=dict(orientation=\"h\", y=1.1, x=0.5, xanchor=\"center\")\n",
    "    )\n",
    "    fig.update_xaxes(\n",
    "        title_text=\"Fecha\",\n",
    "        showgrid=True,\n",
    "        gridcolor=\"rgba(200,200,200,0.2)\",\n",
    "        tickangle=-45,\n",
    "        tickmode=\"array\",\n",
    "        tickvals=tick_vals,\n",
    "        ticktext=tick_text,\n",
    "        ticklabelmode=\"period\"\n",
    "    )\n",
    "    fig.update_yaxes(\n",
    "        title_text=\"Lluvia (mm)\",\n",
    "        showgrid=True,\n",
    "        gridcolor=\"rgba(200,200,200,0.2)\",\n",
    "        rangemode='tozero',  # Aseguramos que el eje empieza en 0\n",
    "        secondary_y=False\n",
    "    )\n",
    "    fig.update_yaxes(\n",
    "        title_text=\"Humedad (%)\",\n",
    "        showgrid=True,\n",
    "        gridcolor=\"rgba(200,200,200,0.2)\",\n",
    "        rangemode='tozero',  # Aseguramos que el eje empieza en 0\n",
    "        secondary_y=True\n",
    "    )\n",
    "\n",
    "\n",
    "    return fig\n",
    "\n",
    "rain_hum_fig = make_rain_humidity_figure(df_rain_daily, df_hum_daily)\n",
    "rain_hum_fig.show()"
   ]
  },
  {
   "cell_type": "code",
   "execution_count": 19,
   "id": "4fe7d970",
   "metadata": {},
   "outputs": [],
   "source": [
    "df_temp_daily = (\n",
    "    df_raw\n",
    "    .set_index('Dates')['Air_Temp']\n",
    "    .resample('D')\n",
    "    .mean()\n",
    "    .fillna(0)\n",
    ")"
   ]
  },
  {
   "cell_type": "code",
   "execution_count": 1,
   "id": "8cbeea8b",
   "metadata": {},
   "outputs": [],
   "source": [
    "import pandas as pd\n",
    "import plotly.graph_objects as go\n",
    "from datetime import datetime, timedelta\n",
    "\n",
    "def make_temp_daily_figure_from_hourly(df_hourly: pd.DataFrame, col: str = \"Air_Temp\") -> go.Figure:\n",
    "    \"\"\"\n",
    "    Toma datos horarios en df_hourly con índice datetime y columna de temperatura,\n",
    "    agrega a diario (min, mean, max) y dibuja una figura combinada:\n",
    "\n",
    "      • Banda min–máx.\n",
    "      • Línea spline de la media.\n",
    "      • Líneas dash de min y max.\n",
    "      • Ticks X: primer día de mes + un lunes/semana.\n",
    "    \"\"\"\n",
    "    # 1) Crear DataFrame diario con min/mean/max\n",
    "    dfg = df_hourly[col].resample(\"D\").agg([\"min\", \"mean\", \"max\"])\n",
    "    dfg.columns = [\"temp_min\", \"temp_mean\", \"temp_max\"]\n",
    "\n",
    "    # 2) Calcular ticks para el eje X (primer día de mes + lunes)\n",
    "    date_range = pd.date_range(start=dfg.index.min(), end=dfg.index.max(), freq='D')\n",
    "    \n",
    "    # Primer día de cada mes\n",
    "    first_days = date_range[date_range.day == 1]\n",
    "    \n",
    "    # Lunes de cada semana (aproximadamente)\n",
    "    mondays = date_range[date_range.weekday == 0]  # 0 = lunes\n",
    "    \n",
    "    # Combinar y ordenar los ticks\n",
    "    tick_dates = pd.to_datetime(list(set(first_days.tolist() + mondays.tolist())))\n",
    "    tick_dates = tick_dates.sort_values()\n",
    "    \n",
    "    # Filtrar solo los que están en nuestro rango de datos\n",
    "    tick_dates = tick_dates[(tick_dates >= dfg.index.min()) & (tick_dates <= dfg.index.max())]\n",
    "\n",
    "    # 3) Construir figura\n",
    "    fig = go.Figure()\n",
    "\n",
    "    # Banda min–máx usando técnica de relleno y \"borrado\"\n",
    "    # Primero: rellenar desde cero hasta temp_max\n",
    "    fig.add_trace(go.Scatter(\n",
    "        x=dfg.index,\n",
    "        y=dfg[\"temp_max\"],\n",
    "        fill=\"tozeroy\",\n",
    "        fillcolor=\"rgba(255,99,71,0.15)\",\n",
    "        line=dict(color=\"rgba(255,99,71,0)\"),  # Línea invisible\n",
    "        name=\"Rango min–máx\",\n",
    "        hoverinfo=\"skip\",\n",
    "        showlegend=True\n",
    "    ))\n",
    "    \n",
    "    # Segundo: \"quitar\" el relleno desde cero hasta temp_min con color de fondo\n",
    "    fig.add_trace(go.Scatter(\n",
    "        x=dfg.index,\n",
    "        y=dfg[\"temp_min\"],\n",
    "        fill=\"tozeroy\",\n",
    "        fillcolor=\"white\",  # Color de fondo para \"borrar\"\n",
    "        line=dict(color=\"rgba(255,99,71,0)\"),  # Línea invisible\n",
    "        hoverinfo=\"skip\",\n",
    "        showlegend=False\n",
    "    ))\n",
    "\n",
    "    # Media spline + markers\n",
    "    fig.add_trace(go.Scatter(\n",
    "        x=dfg.index, \n",
    "        y=dfg[\"temp_mean\"],\n",
    "        mode=\"lines+markers\",\n",
    "        line=dict(color=\"crimson\", width=3, shape=\"spline\", smoothing=1.3),\n",
    "        marker=dict(size=5, symbol=\"circle\", color=\"crimson\"),\n",
    "        name=\"Media\",\n",
    "        hovertemplate=\"%{x|%d %b %Y}<br>Media: %{y:.1f}°C<extra></extra>\"\n",
    "    ))\n",
    "\n",
    "    # Línea de mínima (dash)\n",
    "    fig.add_trace(go.Scatter(\n",
    "        x=dfg.index, \n",
    "        y=dfg[\"temp_min\"],\n",
    "        mode=\"lines\",\n",
    "        line=dict(color=\"blue\", width=2, dash=\"dash\"),\n",
    "        name=\"Mínima\",\n",
    "        hovertemplate=\"%{x|%d %b %Y}<br>Mín: %{y:.1f}°C<extra></extra>\"\n",
    "    ))\n",
    "    \n",
    "    # Línea de máxima (dash)\n",
    "    fig.add_trace(go.Scatter(\n",
    "        x=dfg.index, \n",
    "        y=dfg[\"temp_max\"],\n",
    "        mode=\"lines\",\n",
    "        line=dict(color=\"red\", width=2, dash=\"dash\"),\n",
    "        name=\"Máxima\",\n",
    "        hovertemplate=\"%{x|%d %b %Y}<br>Máx: %{y:.1f}°C<extra></extra>\"\n",
    "    ))\n",
    "\n",
    "    # 4) Layout y ejes\n",
    "    fig.update_layout(\n",
    "        title=dict(\n",
    "            text=\"<b>Temperatura Diaria</b>\", \n",
    "            x=0.02, \n",
    "            xanchor=\"left\",\n",
    "            font=dict(size=16)\n",
    "        ),\n",
    "        legend=dict(\n",
    "            orientation=\"h\", \n",
    "            y=1.02, \n",
    "            x=0.5, \n",
    "            xanchor=\"center\",\n",
    "            bgcolor=\"rgba(255,255,255,0.8)\"\n",
    "        ),\n",
    "        template=\"plotly_white\",\n",
    "        margin=dict(l=50, r=20, t=80, b=60),\n",
    "        hovermode=\"x unified\",\n",
    "        height=500\n",
    "    )\n",
    "    \n",
    "    fig.update_xaxes(\n",
    "        title_text=\"Fecha\",\n",
    "        tickmode=\"array\",\n",
    "        tickvals=tick_dates,\n",
    "        ticktext=[d.strftime(\"%d %b\") if d.day != 1 else d.strftime(\"%d %b %Y\") for d in tick_dates],\n",
    "        tickangle=-45,\n",
    "        showgrid=True,\n",
    "        gridcolor=\"rgba(200,200,200,0.3)\"\n",
    "    )\n",
    "    \n",
    "    fig.update_yaxes(\n",
    "        title_text=\"Temperatura (°C)\",\n",
    "        showgrid=True, \n",
    "        gridcolor=\"rgba(200,200,200,0.3)\",\n",
    "        zeroline=True, \n",
    "        zerolinecolor=\"lightgrey\",\n",
    "        zerolinewidth=1\n",
    "    )\n",
    "\n",
    "    return fig"
   ]
  },
  {
   "cell_type": "code",
   "execution_count": 51,
   "id": "d23688b7",
   "metadata": {},
   "outputs": [
    {
     "data": {
      "application/vnd.plotly.v1+json": {
       "config": {
        "plotlyServerURL": "https://plot.ly"
       },
       "data": [
        {
         "fill": "tozeroy",
         "fillcolor": "rgba(255,99,71,0.15)",
         "hoverinfo": "skip",
         "line": {
          "color": "rgba(255,99,71,0)"
         },
         "name": "Rango min–máx",
         "showlegend": true,
         "type": "scatter",
         "x": [
          "2025-03-18T00:00:00",
          "2025-03-19T00:00:00",
          "2025-03-20T00:00:00",
          "2025-03-21T00:00:00",
          "2025-03-22T00:00:00",
          "2025-03-23T00:00:00",
          "2025-03-24T00:00:00",
          "2025-03-25T00:00:00",
          "2025-03-26T00:00:00",
          "2025-03-27T00:00:00",
          "2025-03-28T00:00:00",
          "2025-03-29T00:00:00",
          "2025-03-30T00:00:00",
          "2025-03-31T00:00:00",
          "2025-04-01T00:00:00",
          "2025-04-02T00:00:00",
          "2025-04-03T00:00:00",
          "2025-04-04T00:00:00",
          "2025-04-05T00:00:00",
          "2025-04-06T00:00:00",
          "2025-04-07T00:00:00",
          "2025-04-08T00:00:00",
          "2025-04-09T00:00:00",
          "2025-04-10T00:00:00",
          "2025-04-11T00:00:00",
          "2025-04-12T00:00:00",
          "2025-04-13T00:00:00",
          "2025-04-14T00:00:00",
          "2025-04-15T00:00:00",
          "2025-04-16T00:00:00",
          "2025-04-17T00:00:00",
          "2025-04-18T00:00:00",
          "2025-04-19T00:00:00",
          "2025-04-20T00:00:00",
          "2025-04-21T00:00:00",
          "2025-04-22T00:00:00",
          "2025-04-23T00:00:00",
          "2025-04-24T00:00:00",
          "2025-04-25T00:00:00",
          "2025-04-26T00:00:00",
          "2025-04-27T00:00:00",
          "2025-04-28T00:00:00",
          "2025-04-29T00:00:00",
          "2025-04-30T00:00:00",
          "2025-05-01T00:00:00",
          "2025-05-02T00:00:00",
          "2025-05-03T00:00:00",
          "2025-05-04T00:00:00"
         ],
         "y": [
          13.25,
          18.84,
          19.51,
          13.25,
          10.61,
          8.59,
          12.28,
          13.35,
          17,
          14.32,
          16.3,
          13.6,
          9.2,
          9.7,
          13.5,
          16.1,
          19,
          20.8,
          11,
          8.6,
          13.2,
          13.4,
          14.9,
          14.1,
          14.8,
          17.3,
          22.4,
          20.6,
          21.1,
          25.4,
          24.9,
          21.48,
          12.19,
          13.76,
          19.26,
          20.41,
          24.38,
          27.66,
          26.28,
          23.69,
          24.01,
          24.03,
          21.13,
          23.45,
          26.44,
          22.01,
          null,
          12.57
         ]
        },
        {
         "fill": "tozeroy",
         "fillcolor": "white",
         "hoverinfo": "skip",
         "line": {
          "color": "rgba(255,99,71,0)"
         },
         "showlegend": false,
         "type": "scatter",
         "x": [
          "2025-03-18T00:00:00",
          "2025-03-19T00:00:00",
          "2025-03-20T00:00:00",
          "2025-03-21T00:00:00",
          "2025-03-22T00:00:00",
          "2025-03-23T00:00:00",
          "2025-03-24T00:00:00",
          "2025-03-25T00:00:00",
          "2025-03-26T00:00:00",
          "2025-03-27T00:00:00",
          "2025-03-28T00:00:00",
          "2025-03-29T00:00:00",
          "2025-03-30T00:00:00",
          "2025-03-31T00:00:00",
          "2025-04-01T00:00:00",
          "2025-04-02T00:00:00",
          "2025-04-03T00:00:00",
          "2025-04-04T00:00:00",
          "2025-04-05T00:00:00",
          "2025-04-06T00:00:00",
          "2025-04-07T00:00:00",
          "2025-04-08T00:00:00",
          "2025-04-09T00:00:00",
          "2025-04-10T00:00:00",
          "2025-04-11T00:00:00",
          "2025-04-12T00:00:00",
          "2025-04-13T00:00:00",
          "2025-04-14T00:00:00",
          "2025-04-15T00:00:00",
          "2025-04-16T00:00:00",
          "2025-04-17T00:00:00",
          "2025-04-18T00:00:00",
          "2025-04-19T00:00:00",
          "2025-04-20T00:00:00",
          "2025-04-21T00:00:00",
          "2025-04-22T00:00:00",
          "2025-04-23T00:00:00",
          "2025-04-24T00:00:00",
          "2025-04-25T00:00:00",
          "2025-04-26T00:00:00",
          "2025-04-27T00:00:00",
          "2025-04-28T00:00:00",
          "2025-04-29T00:00:00",
          "2025-04-30T00:00:00",
          "2025-05-01T00:00:00",
          "2025-05-02T00:00:00",
          "2025-05-03T00:00:00",
          "2025-05-04T00:00:00"
         ],
         "y": [
          8.34,
          4.6000000000000005,
          9.64,
          8.34,
          4.39,
          3.73,
          1.66,
          0.51,
          0.48,
          1.45,
          0.7,
          6,
          4,
          6.3,
          4.9,
          2.9,
          5.2,
          7.8,
          2.3,
          0.5,
          4,
          5.4,
          6.3,
          5.2,
          6.3,
          8.5,
          8.7,
          11.8,
          13,
          12.9,
          7.95,
          4.6000000000000005,
          5.95,
          4.89,
          11.17,
          7.54,
          7.29,
          7.48,
          8.92,
          10.42,
          8.51,
          19.86,
          10.28,
          13.42,
          13.5,
          11.11,
          null,
          12.57
         ]
        },
        {
         "hovertemplate": "%{x|%d %b %Y}<br>Media: %{y:.1f}°C<extra></extra>",
         "line": {
          "color": "crimson",
          "shape": "spline",
          "smoothing": 1.3,
          "width": 3
         },
         "marker": {
          "color": "crimson",
          "size": 5,
          "symbol": "circle"
         },
         "mode": "lines+markers",
         "name": "Media",
         "type": "scatter",
         "x": [
          "2025-03-18T00:00:00",
          "2025-03-19T00:00:00",
          "2025-03-20T00:00:00",
          "2025-03-21T00:00:00",
          "2025-03-22T00:00:00",
          "2025-03-23T00:00:00",
          "2025-03-24T00:00:00",
          "2025-03-25T00:00:00",
          "2025-03-26T00:00:00",
          "2025-03-27T00:00:00",
          "2025-03-28T00:00:00",
          "2025-03-29T00:00:00",
          "2025-03-30T00:00:00",
          "2025-03-31T00:00:00",
          "2025-04-01T00:00:00",
          "2025-04-02T00:00:00",
          "2025-04-03T00:00:00",
          "2025-04-04T00:00:00",
          "2025-04-05T00:00:00",
          "2025-04-06T00:00:00",
          "2025-04-07T00:00:00",
          "2025-04-08T00:00:00",
          "2025-04-09T00:00:00",
          "2025-04-10T00:00:00",
          "2025-04-11T00:00:00",
          "2025-04-12T00:00:00",
          "2025-04-13T00:00:00",
          "2025-04-14T00:00:00",
          "2025-04-15T00:00:00",
          "2025-04-16T00:00:00",
          "2025-04-17T00:00:00",
          "2025-04-18T00:00:00",
          "2025-04-19T00:00:00",
          "2025-04-20T00:00:00",
          "2025-04-21T00:00:00",
          "2025-04-22T00:00:00",
          "2025-04-23T00:00:00",
          "2025-04-24T00:00:00",
          "2025-04-25T00:00:00",
          "2025-04-26T00:00:00",
          "2025-04-27T00:00:00",
          "2025-04-28T00:00:00",
          "2025-04-29T00:00:00",
          "2025-04-30T00:00:00",
          "2025-05-01T00:00:00",
          "2025-05-02T00:00:00",
          "2025-05-03T00:00:00",
          "2025-05-04T00:00:00"
         ],
         "y": [
          10.423,
          11.681666666666667,
          14.300833333333335,
          10.656666666666666,
          7.321666666666666,
          5.2808,
          6.925833333333333,
          7.2995652173913035,
          8.98125,
          6.147083333333334,
          8.325000000000001,
          9.558333333333334,
          7.004166666666666,
          7.766666666666667,
          8.908333333333333,
          9.170833333333333,
          12.325000000000001,
          14.575000000000001,
          6.883333333333333,
          4.670833333333333,
          8.554166666666667,
          9.2875,
          10.137500000000001,
          9.5625,
          10.512500000000001,
          12.600000000000001,
          15.720833333333333,
          16.491666666666667,
          16.925,
          19.125,
          16.599166666666665,
          13.064166666666667,
          10.35153846153846,
          8.400833333333333,
          16.227,
          13.503750000000002,
          15.765,
          17.96291666666667,
          18.032608695652176,
          16.6444,
          14.926428571428572,
          22.194444444444443,
          14.112666666666666,
          17.24111111111111,
          18.694347826086958,
          17.208947368421054,
          null,
          12.57
         ]
        },
        {
         "hovertemplate": "%{x|%d %b %Y}<br>Mín: %{y:.1f}°C<extra></extra>",
         "line": {
          "color": "blue",
          "dash": "dash",
          "width": 2
         },
         "mode": "lines",
         "name": "Mínima",
         "type": "scatter",
         "x": [
          "2025-03-18T00:00:00",
          "2025-03-19T00:00:00",
          "2025-03-20T00:00:00",
          "2025-03-21T00:00:00",
          "2025-03-22T00:00:00",
          "2025-03-23T00:00:00",
          "2025-03-24T00:00:00",
          "2025-03-25T00:00:00",
          "2025-03-26T00:00:00",
          "2025-03-27T00:00:00",
          "2025-03-28T00:00:00",
          "2025-03-29T00:00:00",
          "2025-03-30T00:00:00",
          "2025-03-31T00:00:00",
          "2025-04-01T00:00:00",
          "2025-04-02T00:00:00",
          "2025-04-03T00:00:00",
          "2025-04-04T00:00:00",
          "2025-04-05T00:00:00",
          "2025-04-06T00:00:00",
          "2025-04-07T00:00:00",
          "2025-04-08T00:00:00",
          "2025-04-09T00:00:00",
          "2025-04-10T00:00:00",
          "2025-04-11T00:00:00",
          "2025-04-12T00:00:00",
          "2025-04-13T00:00:00",
          "2025-04-14T00:00:00",
          "2025-04-15T00:00:00",
          "2025-04-16T00:00:00",
          "2025-04-17T00:00:00",
          "2025-04-18T00:00:00",
          "2025-04-19T00:00:00",
          "2025-04-20T00:00:00",
          "2025-04-21T00:00:00",
          "2025-04-22T00:00:00",
          "2025-04-23T00:00:00",
          "2025-04-24T00:00:00",
          "2025-04-25T00:00:00",
          "2025-04-26T00:00:00",
          "2025-04-27T00:00:00",
          "2025-04-28T00:00:00",
          "2025-04-29T00:00:00",
          "2025-04-30T00:00:00",
          "2025-05-01T00:00:00",
          "2025-05-02T00:00:00",
          "2025-05-03T00:00:00",
          "2025-05-04T00:00:00"
         ],
         "y": [
          8.34,
          4.6000000000000005,
          9.64,
          8.34,
          4.39,
          3.73,
          1.66,
          0.51,
          0.48,
          1.45,
          0.7,
          6,
          4,
          6.3,
          4.9,
          2.9,
          5.2,
          7.8,
          2.3,
          0.5,
          4,
          5.4,
          6.3,
          5.2,
          6.3,
          8.5,
          8.7,
          11.8,
          13,
          12.9,
          7.95,
          4.6000000000000005,
          5.95,
          4.89,
          11.17,
          7.54,
          7.29,
          7.48,
          8.92,
          10.42,
          8.51,
          19.86,
          10.28,
          13.42,
          13.5,
          11.11,
          null,
          12.57
         ]
        },
        {
         "hovertemplate": "%{x|%d %b %Y}<br>Máx: %{y:.1f}°C<extra></extra>",
         "line": {
          "color": "red",
          "dash": "dash",
          "width": 2
         },
         "mode": "lines",
         "name": "Máxima",
         "type": "scatter",
         "x": [
          "2025-03-18T00:00:00",
          "2025-03-19T00:00:00",
          "2025-03-20T00:00:00",
          "2025-03-21T00:00:00",
          "2025-03-22T00:00:00",
          "2025-03-23T00:00:00",
          "2025-03-24T00:00:00",
          "2025-03-25T00:00:00",
          "2025-03-26T00:00:00",
          "2025-03-27T00:00:00",
          "2025-03-28T00:00:00",
          "2025-03-29T00:00:00",
          "2025-03-30T00:00:00",
          "2025-03-31T00:00:00",
          "2025-04-01T00:00:00",
          "2025-04-02T00:00:00",
          "2025-04-03T00:00:00",
          "2025-04-04T00:00:00",
          "2025-04-05T00:00:00",
          "2025-04-06T00:00:00",
          "2025-04-07T00:00:00",
          "2025-04-08T00:00:00",
          "2025-04-09T00:00:00",
          "2025-04-10T00:00:00",
          "2025-04-11T00:00:00",
          "2025-04-12T00:00:00",
          "2025-04-13T00:00:00",
          "2025-04-14T00:00:00",
          "2025-04-15T00:00:00",
          "2025-04-16T00:00:00",
          "2025-04-17T00:00:00",
          "2025-04-18T00:00:00",
          "2025-04-19T00:00:00",
          "2025-04-20T00:00:00",
          "2025-04-21T00:00:00",
          "2025-04-22T00:00:00",
          "2025-04-23T00:00:00",
          "2025-04-24T00:00:00",
          "2025-04-25T00:00:00",
          "2025-04-26T00:00:00",
          "2025-04-27T00:00:00",
          "2025-04-28T00:00:00",
          "2025-04-29T00:00:00",
          "2025-04-30T00:00:00",
          "2025-05-01T00:00:00",
          "2025-05-02T00:00:00",
          "2025-05-03T00:00:00",
          "2025-05-04T00:00:00"
         ],
         "y": [
          13.25,
          18.84,
          19.51,
          13.25,
          10.61,
          8.59,
          12.28,
          13.35,
          17,
          14.32,
          16.3,
          13.6,
          9.2,
          9.7,
          13.5,
          16.1,
          19,
          20.8,
          11,
          8.6,
          13.2,
          13.4,
          14.9,
          14.1,
          14.8,
          17.3,
          22.4,
          20.6,
          21.1,
          25.4,
          24.9,
          21.48,
          12.19,
          13.76,
          19.26,
          20.41,
          24.38,
          27.66,
          26.28,
          23.69,
          24.01,
          24.03,
          21.13,
          23.45,
          26.44,
          22.01,
          null,
          12.57
         ]
        }
       ],
       "layout": {
        "height": 500,
        "hovermode": "x unified",
        "legend": {
         "bgcolor": "rgba(255,255,255,0.8)",
         "orientation": "h",
         "x": 0.5,
         "xanchor": "center",
         "y": 1.02
        },
        "margin": {
         "b": 60,
         "l": 50,
         "r": 20,
         "t": 80
        },
        "template": {
         "data": {
          "bar": [
           {
            "error_x": {
             "color": "#2a3f5f"
            },
            "error_y": {
             "color": "#2a3f5f"
            },
            "marker": {
             "line": {
              "color": "white",
              "width": 0.5
             },
             "pattern": {
              "fillmode": "overlay",
              "size": 10,
              "solidity": 0.2
             }
            },
            "type": "bar"
           }
          ],
          "barpolar": [
           {
            "marker": {
             "line": {
              "color": "white",
              "width": 0.5
             },
             "pattern": {
              "fillmode": "overlay",
              "size": 10,
              "solidity": 0.2
             }
            },
            "type": "barpolar"
           }
          ],
          "carpet": [
           {
            "aaxis": {
             "endlinecolor": "#2a3f5f",
             "gridcolor": "#C8D4E3",
             "linecolor": "#C8D4E3",
             "minorgridcolor": "#C8D4E3",
             "startlinecolor": "#2a3f5f"
            },
            "baxis": {
             "endlinecolor": "#2a3f5f",
             "gridcolor": "#C8D4E3",
             "linecolor": "#C8D4E3",
             "minorgridcolor": "#C8D4E3",
             "startlinecolor": "#2a3f5f"
            },
            "type": "carpet"
           }
          ],
          "choropleth": [
           {
            "colorbar": {
             "outlinewidth": 0,
             "ticks": ""
            },
            "type": "choropleth"
           }
          ],
          "contour": [
           {
            "colorbar": {
             "outlinewidth": 0,
             "ticks": ""
            },
            "colorscale": [
             [
              0,
              "#0d0887"
             ],
             [
              0.1111111111111111,
              "#46039f"
             ],
             [
              0.2222222222222222,
              "#7201a8"
             ],
             [
              0.3333333333333333,
              "#9c179e"
             ],
             [
              0.4444444444444444,
              "#bd3786"
             ],
             [
              0.5555555555555556,
              "#d8576b"
             ],
             [
              0.6666666666666666,
              "#ed7953"
             ],
             [
              0.7777777777777778,
              "#fb9f3a"
             ],
             [
              0.8888888888888888,
              "#fdca26"
             ],
             [
              1,
              "#f0f921"
             ]
            ],
            "type": "contour"
           }
          ],
          "contourcarpet": [
           {
            "colorbar": {
             "outlinewidth": 0,
             "ticks": ""
            },
            "type": "contourcarpet"
           }
          ],
          "heatmap": [
           {
            "colorbar": {
             "outlinewidth": 0,
             "ticks": ""
            },
            "colorscale": [
             [
              0,
              "#0d0887"
             ],
             [
              0.1111111111111111,
              "#46039f"
             ],
             [
              0.2222222222222222,
              "#7201a8"
             ],
             [
              0.3333333333333333,
              "#9c179e"
             ],
             [
              0.4444444444444444,
              "#bd3786"
             ],
             [
              0.5555555555555556,
              "#d8576b"
             ],
             [
              0.6666666666666666,
              "#ed7953"
             ],
             [
              0.7777777777777778,
              "#fb9f3a"
             ],
             [
              0.8888888888888888,
              "#fdca26"
             ],
             [
              1,
              "#f0f921"
             ]
            ],
            "type": "heatmap"
           }
          ],
          "heatmapgl": [
           {
            "colorbar": {
             "outlinewidth": 0,
             "ticks": ""
            },
            "colorscale": [
             [
              0,
              "#0d0887"
             ],
             [
              0.1111111111111111,
              "#46039f"
             ],
             [
              0.2222222222222222,
              "#7201a8"
             ],
             [
              0.3333333333333333,
              "#9c179e"
             ],
             [
              0.4444444444444444,
              "#bd3786"
             ],
             [
              0.5555555555555556,
              "#d8576b"
             ],
             [
              0.6666666666666666,
              "#ed7953"
             ],
             [
              0.7777777777777778,
              "#fb9f3a"
             ],
             [
              0.8888888888888888,
              "#fdca26"
             ],
             [
              1,
              "#f0f921"
             ]
            ],
            "type": "heatmapgl"
           }
          ],
          "histogram": [
           {
            "marker": {
             "pattern": {
              "fillmode": "overlay",
              "size": 10,
              "solidity": 0.2
             }
            },
            "type": "histogram"
           }
          ],
          "histogram2d": [
           {
            "colorbar": {
             "outlinewidth": 0,
             "ticks": ""
            },
            "colorscale": [
             [
              0,
              "#0d0887"
             ],
             [
              0.1111111111111111,
              "#46039f"
             ],
             [
              0.2222222222222222,
              "#7201a8"
             ],
             [
              0.3333333333333333,
              "#9c179e"
             ],
             [
              0.4444444444444444,
              "#bd3786"
             ],
             [
              0.5555555555555556,
              "#d8576b"
             ],
             [
              0.6666666666666666,
              "#ed7953"
             ],
             [
              0.7777777777777778,
              "#fb9f3a"
             ],
             [
              0.8888888888888888,
              "#fdca26"
             ],
             [
              1,
              "#f0f921"
             ]
            ],
            "type": "histogram2d"
           }
          ],
          "histogram2dcontour": [
           {
            "colorbar": {
             "outlinewidth": 0,
             "ticks": ""
            },
            "colorscale": [
             [
              0,
              "#0d0887"
             ],
             [
              0.1111111111111111,
              "#46039f"
             ],
             [
              0.2222222222222222,
              "#7201a8"
             ],
             [
              0.3333333333333333,
              "#9c179e"
             ],
             [
              0.4444444444444444,
              "#bd3786"
             ],
             [
              0.5555555555555556,
              "#d8576b"
             ],
             [
              0.6666666666666666,
              "#ed7953"
             ],
             [
              0.7777777777777778,
              "#fb9f3a"
             ],
             [
              0.8888888888888888,
              "#fdca26"
             ],
             [
              1,
              "#f0f921"
             ]
            ],
            "type": "histogram2dcontour"
           }
          ],
          "mesh3d": [
           {
            "colorbar": {
             "outlinewidth": 0,
             "ticks": ""
            },
            "type": "mesh3d"
           }
          ],
          "parcoords": [
           {
            "line": {
             "colorbar": {
              "outlinewidth": 0,
              "ticks": ""
             }
            },
            "type": "parcoords"
           }
          ],
          "pie": [
           {
            "automargin": true,
            "type": "pie"
           }
          ],
          "scatter": [
           {
            "fillpattern": {
             "fillmode": "overlay",
             "size": 10,
             "solidity": 0.2
            },
            "type": "scatter"
           }
          ],
          "scatter3d": [
           {
            "line": {
             "colorbar": {
              "outlinewidth": 0,
              "ticks": ""
             }
            },
            "marker": {
             "colorbar": {
              "outlinewidth": 0,
              "ticks": ""
             }
            },
            "type": "scatter3d"
           }
          ],
          "scattercarpet": [
           {
            "marker": {
             "colorbar": {
              "outlinewidth": 0,
              "ticks": ""
             }
            },
            "type": "scattercarpet"
           }
          ],
          "scattergeo": [
           {
            "marker": {
             "colorbar": {
              "outlinewidth": 0,
              "ticks": ""
             }
            },
            "type": "scattergeo"
           }
          ],
          "scattergl": [
           {
            "marker": {
             "colorbar": {
              "outlinewidth": 0,
              "ticks": ""
             }
            },
            "type": "scattergl"
           }
          ],
          "scattermapbox": [
           {
            "marker": {
             "colorbar": {
              "outlinewidth": 0,
              "ticks": ""
             }
            },
            "type": "scattermapbox"
           }
          ],
          "scatterpolar": [
           {
            "marker": {
             "colorbar": {
              "outlinewidth": 0,
              "ticks": ""
             }
            },
            "type": "scatterpolar"
           }
          ],
          "scatterpolargl": [
           {
            "marker": {
             "colorbar": {
              "outlinewidth": 0,
              "ticks": ""
             }
            },
            "type": "scatterpolargl"
           }
          ],
          "scatterternary": [
           {
            "marker": {
             "colorbar": {
              "outlinewidth": 0,
              "ticks": ""
             }
            },
            "type": "scatterternary"
           }
          ],
          "surface": [
           {
            "colorbar": {
             "outlinewidth": 0,
             "ticks": ""
            },
            "colorscale": [
             [
              0,
              "#0d0887"
             ],
             [
              0.1111111111111111,
              "#46039f"
             ],
             [
              0.2222222222222222,
              "#7201a8"
             ],
             [
              0.3333333333333333,
              "#9c179e"
             ],
             [
              0.4444444444444444,
              "#bd3786"
             ],
             [
              0.5555555555555556,
              "#d8576b"
             ],
             [
              0.6666666666666666,
              "#ed7953"
             ],
             [
              0.7777777777777778,
              "#fb9f3a"
             ],
             [
              0.8888888888888888,
              "#fdca26"
             ],
             [
              1,
              "#f0f921"
             ]
            ],
            "type": "surface"
           }
          ],
          "table": [
           {
            "cells": {
             "fill": {
              "color": "#EBF0F8"
             },
             "line": {
              "color": "white"
             }
            },
            "header": {
             "fill": {
              "color": "#C8D4E3"
             },
             "line": {
              "color": "white"
             }
            },
            "type": "table"
           }
          ]
         },
         "layout": {
          "annotationdefaults": {
           "arrowcolor": "#2a3f5f",
           "arrowhead": 0,
           "arrowwidth": 1
          },
          "autotypenumbers": "strict",
          "coloraxis": {
           "colorbar": {
            "outlinewidth": 0,
            "ticks": ""
           }
          },
          "colorscale": {
           "diverging": [
            [
             0,
             "#8e0152"
            ],
            [
             0.1,
             "#c51b7d"
            ],
            [
             0.2,
             "#de77ae"
            ],
            [
             0.3,
             "#f1b6da"
            ],
            [
             0.4,
             "#fde0ef"
            ],
            [
             0.5,
             "#f7f7f7"
            ],
            [
             0.6,
             "#e6f5d0"
            ],
            [
             0.7,
             "#b8e186"
            ],
            [
             0.8,
             "#7fbc41"
            ],
            [
             0.9,
             "#4d9221"
            ],
            [
             1,
             "#276419"
            ]
           ],
           "sequential": [
            [
             0,
             "#0d0887"
            ],
            [
             0.1111111111111111,
             "#46039f"
            ],
            [
             0.2222222222222222,
             "#7201a8"
            ],
            [
             0.3333333333333333,
             "#9c179e"
            ],
            [
             0.4444444444444444,
             "#bd3786"
            ],
            [
             0.5555555555555556,
             "#d8576b"
            ],
            [
             0.6666666666666666,
             "#ed7953"
            ],
            [
             0.7777777777777778,
             "#fb9f3a"
            ],
            [
             0.8888888888888888,
             "#fdca26"
            ],
            [
             1,
             "#f0f921"
            ]
           ],
           "sequentialminus": [
            [
             0,
             "#0d0887"
            ],
            [
             0.1111111111111111,
             "#46039f"
            ],
            [
             0.2222222222222222,
             "#7201a8"
            ],
            [
             0.3333333333333333,
             "#9c179e"
            ],
            [
             0.4444444444444444,
             "#bd3786"
            ],
            [
             0.5555555555555556,
             "#d8576b"
            ],
            [
             0.6666666666666666,
             "#ed7953"
            ],
            [
             0.7777777777777778,
             "#fb9f3a"
            ],
            [
             0.8888888888888888,
             "#fdca26"
            ],
            [
             1,
             "#f0f921"
            ]
           ]
          },
          "colorway": [
           "#636efa",
           "#EF553B",
           "#00cc96",
           "#ab63fa",
           "#FFA15A",
           "#19d3f3",
           "#FF6692",
           "#B6E880",
           "#FF97FF",
           "#FECB52"
          ],
          "font": {
           "color": "#2a3f5f"
          },
          "geo": {
           "bgcolor": "white",
           "lakecolor": "white",
           "landcolor": "white",
           "showlakes": true,
           "showland": true,
           "subunitcolor": "#C8D4E3"
          },
          "hoverlabel": {
           "align": "left"
          },
          "hovermode": "closest",
          "mapbox": {
           "style": "light"
          },
          "paper_bgcolor": "white",
          "plot_bgcolor": "white",
          "polar": {
           "angularaxis": {
            "gridcolor": "#EBF0F8",
            "linecolor": "#EBF0F8",
            "ticks": ""
           },
           "bgcolor": "white",
           "radialaxis": {
            "gridcolor": "#EBF0F8",
            "linecolor": "#EBF0F8",
            "ticks": ""
           }
          },
          "scene": {
           "xaxis": {
            "backgroundcolor": "white",
            "gridcolor": "#DFE8F3",
            "gridwidth": 2,
            "linecolor": "#EBF0F8",
            "showbackground": true,
            "ticks": "",
            "zerolinecolor": "#EBF0F8"
           },
           "yaxis": {
            "backgroundcolor": "white",
            "gridcolor": "#DFE8F3",
            "gridwidth": 2,
            "linecolor": "#EBF0F8",
            "showbackground": true,
            "ticks": "",
            "zerolinecolor": "#EBF0F8"
           },
           "zaxis": {
            "backgroundcolor": "white",
            "gridcolor": "#DFE8F3",
            "gridwidth": 2,
            "linecolor": "#EBF0F8",
            "showbackground": true,
            "ticks": "",
            "zerolinecolor": "#EBF0F8"
           }
          },
          "shapedefaults": {
           "line": {
            "color": "#2a3f5f"
           }
          },
          "ternary": {
           "aaxis": {
            "gridcolor": "#DFE8F3",
            "linecolor": "#A2B1C6",
            "ticks": ""
           },
           "baxis": {
            "gridcolor": "#DFE8F3",
            "linecolor": "#A2B1C6",
            "ticks": ""
           },
           "bgcolor": "white",
           "caxis": {
            "gridcolor": "#DFE8F3",
            "linecolor": "#A2B1C6",
            "ticks": ""
           }
          },
          "title": {
           "x": 0.05
          },
          "xaxis": {
           "automargin": true,
           "gridcolor": "#EBF0F8",
           "linecolor": "#EBF0F8",
           "ticks": "",
           "title": {
            "standoff": 15
           },
           "zerolinecolor": "#EBF0F8",
           "zerolinewidth": 2
          },
          "yaxis": {
           "automargin": true,
           "gridcolor": "#EBF0F8",
           "linecolor": "#EBF0F8",
           "ticks": "",
           "title": {
            "standoff": 15
           },
           "zerolinecolor": "#EBF0F8",
           "zerolinewidth": 2
          }
         }
        },
        "title": {
         "font": {
          "size": 16
         },
         "text": "<b>Temperatura Diaria</b>",
         "x": 0.02,
         "xanchor": "left"
        },
        "xaxis": {
         "gridcolor": "rgba(200,200,200,0.3)",
         "showgrid": true,
         "tickangle": -45,
         "tickmode": "array",
         "ticktext": [
          "24 Mar",
          "31 Mar",
          "01 Apr 2025",
          "07 Apr",
          "14 Apr",
          "21 Apr",
          "28 Apr",
          "01 May 2025"
         ],
         "tickvals": [
          "2025-03-24T00:00:00",
          "2025-03-31T00:00:00",
          "2025-04-01T00:00:00",
          "2025-04-07T00:00:00",
          "2025-04-14T00:00:00",
          "2025-04-21T00:00:00",
          "2025-04-28T00:00:00",
          "2025-05-01T00:00:00"
         ],
         "title": {
          "text": "Fecha"
         }
        },
        "yaxis": {
         "gridcolor": "rgba(200,200,200,0.3)",
         "showgrid": true,
         "title": {
          "text": "Temperatura (°C)"
         },
         "zeroline": true,
         "zerolinecolor": "lightgrey",
         "zerolinewidth": 1
        }
       }
      }
     },
     "metadata": {},
     "output_type": "display_data"
    }
   ],
   "source": [
    "df_raw['Dates'] = pd.to_datetime(df_raw['Dates'])\n",
    "df_raw.set_index('Dates', inplace=True)\n",
    "fig = make_temp_daily_figure_from_hourly(df_raw, col=\"Air_Temp\")\n",
    "fig.show()"
   ]
  },
  {
   "cell_type": "code",
   "execution_count": 63,
   "id": "d95856c5",
   "metadata": {},
   "outputs": [],
   "source": [
    "def make_wind_rose(\n",
    "    df: pd.DataFrame,\n",
    "    dir_col: str = 'Wind_Dir',\n",
    "    speed_col: str = 'Wind_Speed',\n",
    "    speed_bins: list = [0, 2, 5, 8, None],\n",
    "    speed_labels: list = None,\n",
    "    colors: dict = None,\n",
    "    calm_threshold: float = 2,\n",
    "    circle_bgcolor: str = '#F9F9F9',\n",
    ") -> go.Figure:\n",
    "    # Definir etiquetas y colores por defecto\n",
    "    if speed_labels is None:\n",
    "        speed_labels = ['Calma', 'Suave', 'Moderado', 'Fuerte']\n",
    "    if colors is None:\n",
    "        colors = {\n",
    "            'Calma': '#E5E5E5', 'Suave': '#A1D99B',\n",
    "            'Moderado': '#31A354', 'Fuerte': '#006D2C'\n",
    "        }\n",
    "\n",
    "    # Cardinales y datos\n",
    "    cardinals = ['N', 'NE', 'E', 'SE', 'S', 'SW', 'W', 'NW']\n",
    "    angles = np.arange(0, 360, 45)\n",
    "    dfc = df.copy()\n",
    "    dfc['dir_norm'] = dfc[dir_col] % 360\n",
    "    dfc['dir_bin'] = pd.cut(\n",
    "        dfc['dir_norm'], bins=np.arange(0, 361, 45),\n",
    "        labels=cardinals, right=False\n",
    "    )\n",
    "\n",
    "    # Velocidad bins\\    \n",
    "    vmax = dfc[speed_col].max()\n",
    "    bins = speed_bins.copy()\n",
    "    if bins[-1] is None:\n",
    "        bins[-1] = vmax + 1\n",
    "    dfc['speed_bin'] = pd.cut(\n",
    "        dfc[speed_col], bins=bins,\n",
    "        labels=speed_labels, right=False\n",
    "    )\n",
    "\n",
    "    # Conteos y porcentajes\n",
    "    group = dfc.dropna(subset=['dir_bin', 'speed_bin'])\n",
    "    ct = (group.groupby(['dir_bin','speed_bin']).size()\n",
    "          .unstack(fill_value=0)\n",
    "          .reindex(index=cardinals, columns=speed_labels, fill_value=0))\n",
    "    pct = ct.div(ct.sum().sum()) * 100\n",
    "    max_pct = pct.values.max() * 1.1\n",
    "\n",
    "    # Figura\n",
    "    fig = go.Figure()\n",
    "    # Barras apiladas\n",
    "    for lbl in speed_labels:\n",
    "        fig.add_trace(go.Barpolar(\n",
    "            r=pct[lbl].values, theta=angles,\n",
    "            name=lbl, marker_color=colors[lbl],\n",
    "            hovertemplate=(\n",
    "                '<b>%{theta}° (%{text})</b><br>'\n",
    "                'Categoría: ' + lbl + '<br>'\n",
    "                '%.1f%%<br>'\n",
    "                'Conteo: %{' + 'customdata' + '}<extra></extra>'\n",
    "            ), text=cardinals, customdata=ct[lbl].values\n",
    "        ))\n",
    "    # Vector medio\n",
    "    th = np.deg2rad(dfc['dir_norm'])\n",
    "    u, v = dfc[speed_col]*np.sin(th), dfc[speed_col]*np.cos(th)\n",
    "    um, vm = u.mean(), v.mean()\n",
    "    vec_speed = np.hypot(um, vm)\n",
    "    vec_dir = (np.rad2deg(np.arctan2(um, vm)) + 360) % 360\n",
    "    fig.add_trace(go.Scatterpolar(\n",
    "        r=[0, vec_speed], theta=[vec_dir, vec_dir],\n",
    "        mode='lines', line=dict(color='#333', width=3), name='Vector Medio'\n",
    "    ))\n",
    "    fig.add_trace(go.Scatterpolar(\n",
    "        r=[vec_speed], theta=[vec_dir], mode='markers',\n",
    "        marker_symbol='diamond', marker=dict(size=12, color='#333'), showlegend=False\n",
    "    ))\n",
    "\n",
    "    # Velocidad media por sector\n",
    "    avg_by_dir = dfc.groupby('dir_bin')[speed_col].mean().reindex(cardinals)\n",
    "\n",
    "    inline_labels = [f'{d} ({avg_by_dir[d]:.1f} m/s)' for d in cardinals]\n",
    "    \n",
    "    # Anotación de calma\n",
    "    calm_pct = (dfc[speed_col] < calm_threshold).mean() * 100\n",
    "    fig.add_annotation(\n",
    "        x=0.5, y=1.2, xref='paper', yref='paper',\n",
    "        text=f'<b>Calma (< {calm_threshold} m/s): {calm_pct:.1f}%</b>',\n",
    "        showarrow=False, font=dict(size=12)\n",
    "    )\n",
    "\n",
    "    # Layout\n",
    "    fig.update_layout(\n",
    "        template='plotly_white', paper_bgcolor='white',\n",
    "        legend=dict(title='Velocidad (m/s)', orientation='h',\n",
    "                    yanchor='bottom', y=-0.2, xanchor='center', x=0.5),\n",
    "        polar=dict(\n",
    "            bgcolor=circle_bgcolor,\n",
    "            angularaxis=dict(\n",
    "                tickmode='array', tickvals=angles,\n",
    "                ticktext=inline_labels,\n",
    "                rotation=90, direction='clockwise',\n",
    "                tickfont=dict(size=12)\n",
    "            ),\n",
    "            radialaxis=dict(\n",
    "                tickmode='array', tickvals=np.linspace(0, max_pct, 5),\n",
    "                ticktext=[f'{v:.0f}%' for v in np.linspace(0, max_pct, 5)],\n",
    "                angle=45, range=[0, max_pct], gridcolor='#ccc', gridwidth=1,\n",
    "                tickfont=dict(size=10, color='#000'), ticks='outside',\n",
    "                side='clockwise', ticklen=5\n",
    "            )\n",
    "        ), margin=dict(l=50, r=50, t=100, b=50)\n",
    "    )\n",
    "    return fig\n"
   ]
  },
  {
   "cell_type": "code",
   "execution_count": 64,
   "id": "ec7818fa",
   "metadata": {},
   "outputs": [
    {
     "name": "stderr",
     "output_type": "stream",
     "text": [
      "C:\\Users\\germa\\AppData\\Local\\Temp\\ipykernel_20712\\235822679.py:42: FutureWarning:\n",
      "\n",
      "The default of observed=False is deprecated and will be changed to True in a future version of pandas. Pass observed=False to retain current behavior or observed=True to adopt the future default and silence this warning.\n",
      "\n",
      "C:\\Users\\germa\\AppData\\Local\\Temp\\ipykernel_20712\\235822679.py:78: FutureWarning:\n",
      "\n",
      "The default of observed=False is deprecated and will be changed to True in a future version of pandas. Pass observed=False to retain current behavior or observed=True to adopt the future default and silence this warning.\n",
      "\n"
     ]
    },
    {
     "data": {
      "application/vnd.plotly.v1+json": {
       "config": {
        "plotlyServerURL": "https://plot.ly"
       },
       "data": [
        {
         "customdata": [
          26,
          32,
          17,
          23,
          18,
          25,
          22,
          13
         ],
         "hovertemplate": "<b>%{theta}° (%{text})</b><br>Categoría: Calma<br>%.1f%%<br>Conteo: %{customdata}<extra></extra>",
         "marker": {
          "color": "#E5E5E5"
         },
         "name": "Calma",
         "r": [
          2.5145067698259185,
          3.0947775628626695,
          1.6441005802707929,
          2.2243713733075436,
          1.7408123791102514,
          2.4177949709864603,
          2.127659574468085,
          1.2572533849129592
         ],
         "text": [
          "N",
          "NE",
          "E",
          "SE",
          "S",
          "SW",
          "W",
          "NW"
         ],
         "theta": [
          0,
          45,
          90,
          135,
          180,
          225,
          270,
          315
         ],
         "type": "barpolar"
        },
        {
         "customdata": [
          33,
          46,
          16,
          23,
          14,
          16,
          24,
          19
         ],
         "hovertemplate": "<b>%{theta}° (%{text})</b><br>Categoría: Suave<br>%.1f%%<br>Conteo: %{customdata}<extra></extra>",
         "marker": {
          "color": "#A1D99B"
         },
         "name": "Suave",
         "r": [
          3.1914893617021276,
          4.448742746615087,
          1.5473887814313347,
          2.2243713733075436,
          1.3539651837524178,
          1.5473887814313347,
          2.321083172147002,
          1.83752417794971
         ],
         "text": [
          "N",
          "NE",
          "E",
          "SE",
          "S",
          "SW",
          "W",
          "NW"
         ],
         "theta": [
          0,
          45,
          90,
          135,
          180,
          225,
          270,
          315
         ],
         "type": "barpolar"
        },
        {
         "customdata": [
          36,
          64,
          26,
          18,
          19,
          31,
          22,
          10
         ],
         "hovertemplate": "<b>%{theta}° (%{text})</b><br>Categoría: Moderado<br>%.1f%%<br>Conteo: %{customdata}<extra></extra>",
         "marker": {
          "color": "#31A354"
         },
         "name": "Moderado",
         "r": [
          3.481624758220503,
          6.189555125725339,
          2.5145067698259185,
          1.7408123791102514,
          1.83752417794971,
          2.998065764023211,
          2.127659574468085,
          0.9671179883945842
         ],
         "text": [
          "N",
          "NE",
          "E",
          "SE",
          "S",
          "SW",
          "W",
          "NW"
         ],
         "theta": [
          0,
          45,
          90,
          135,
          180,
          225,
          270,
          315
         ],
         "type": "barpolar"
        },
        {
         "customdata": [
          110,
          77,
          48,
          20,
          16,
          37,
          73,
          60
         ],
         "hovertemplate": "<b>%{theta}° (%{text})</b><br>Categoría: Fuerte<br>%.1f%%<br>Conteo: %{customdata}<extra></extra>",
         "marker": {
          "color": "#006D2C"
         },
         "name": "Fuerte",
         "r": [
          10.638297872340425,
          7.446808510638298,
          4.642166344294004,
          1.9342359767891684,
          1.5473887814313347,
          3.5783365570599615,
          7.0599613152804634,
          5.802707930367505
         ],
         "text": [
          "N",
          "NE",
          "E",
          "SE",
          "S",
          "SW",
          "W",
          "NW"
         ],
         "theta": [
          0,
          45,
          90,
          135,
          180,
          225,
          270,
          315
         ],
         "type": "barpolar"
        },
        {
         "line": {
          "color": "#333",
          "width": 3
         },
         "mode": "lines",
         "name": "Vector Medio",
         "r": [
          0,
          2.0017725162082196
         ],
         "theta": [
          18.28291385706831,
          18.28291385706831
         ],
         "type": "scatterpolar"
        },
        {
         "marker": {
          "color": "#333",
          "size": 12,
          "symbol": "diamond"
         },
         "mode": "markers",
         "r": [
          2.0017725162082196
         ],
         "showlegend": false,
         "theta": [
          18.28291385706831
         ],
         "type": "scatterpolar"
        }
       ],
       "layout": {
        "annotations": [
         {
          "font": {
           "size": 12
          },
          "showarrow": false,
          "text": "<b>Calma (< 2 m/s): 17.0%</b>",
          "x": 0.5,
          "xref": "paper",
          "y": 1.2,
          "yref": "paper"
         }
        ],
        "legend": {
         "orientation": "h",
         "title": {
          "text": "Velocidad (m/s)"
         },
         "x": 0.5,
         "xanchor": "center",
         "y": -0.2,
         "yanchor": "bottom"
        },
        "margin": {
         "b": 50,
         "l": 50,
         "r": 50,
         "t": 100
        },
        "paper_bgcolor": "white",
        "polar": {
         "angularaxis": {
          "direction": "clockwise",
          "rotation": 90,
          "tickfont": {
           "size": 12
          },
          "tickmode": "array",
          "ticktext": [
           "N (7.8 m/s)",
           "NE (6.4 m/s)",
           "E (7.6 m/s)",
           "SE (4.7 m/s)",
           "S (5.5 m/s)",
           "SW (6.6 m/s)",
           "W (8.6 m/s)",
           "NW (8.3 m/s)"
          ],
          "tickvals": [
           0,
           45,
           90,
           135,
           180,
           225,
           270,
           315
          ]
         },
         "bgcolor": "#F9F9F9",
         "radialaxis": {
          "angle": 45,
          "gridcolor": "#ccc",
          "gridwidth": 1,
          "range": [
           0,
           11.702127659574469
          ],
          "side": "clockwise",
          "tickfont": {
           "color": "#000",
           "size": 10
          },
          "ticklen": 5,
          "tickmode": "array",
          "ticks": "outside",
          "ticktext": [
           "0%",
           "3%",
           "6%",
           "9%",
           "12%"
          ],
          "tickvals": [
           0,
           2.925531914893617,
           5.851063829787234,
           8.77659574468085,
           11.702127659574469
          ]
         }
        },
        "template": {
         "data": {
          "bar": [
           {
            "error_x": {
             "color": "#2a3f5f"
            },
            "error_y": {
             "color": "#2a3f5f"
            },
            "marker": {
             "line": {
              "color": "white",
              "width": 0.5
             },
             "pattern": {
              "fillmode": "overlay",
              "size": 10,
              "solidity": 0.2
             }
            },
            "type": "bar"
           }
          ],
          "barpolar": [
           {
            "marker": {
             "line": {
              "color": "white",
              "width": 0.5
             },
             "pattern": {
              "fillmode": "overlay",
              "size": 10,
              "solidity": 0.2
             }
            },
            "type": "barpolar"
           }
          ],
          "carpet": [
           {
            "aaxis": {
             "endlinecolor": "#2a3f5f",
             "gridcolor": "#C8D4E3",
             "linecolor": "#C8D4E3",
             "minorgridcolor": "#C8D4E3",
             "startlinecolor": "#2a3f5f"
            },
            "baxis": {
             "endlinecolor": "#2a3f5f",
             "gridcolor": "#C8D4E3",
             "linecolor": "#C8D4E3",
             "minorgridcolor": "#C8D4E3",
             "startlinecolor": "#2a3f5f"
            },
            "type": "carpet"
           }
          ],
          "choropleth": [
           {
            "colorbar": {
             "outlinewidth": 0,
             "ticks": ""
            },
            "type": "choropleth"
           }
          ],
          "contour": [
           {
            "colorbar": {
             "outlinewidth": 0,
             "ticks": ""
            },
            "colorscale": [
             [
              0,
              "#0d0887"
             ],
             [
              0.1111111111111111,
              "#46039f"
             ],
             [
              0.2222222222222222,
              "#7201a8"
             ],
             [
              0.3333333333333333,
              "#9c179e"
             ],
             [
              0.4444444444444444,
              "#bd3786"
             ],
             [
              0.5555555555555556,
              "#d8576b"
             ],
             [
              0.6666666666666666,
              "#ed7953"
             ],
             [
              0.7777777777777778,
              "#fb9f3a"
             ],
             [
              0.8888888888888888,
              "#fdca26"
             ],
             [
              1,
              "#f0f921"
             ]
            ],
            "type": "contour"
           }
          ],
          "contourcarpet": [
           {
            "colorbar": {
             "outlinewidth": 0,
             "ticks": ""
            },
            "type": "contourcarpet"
           }
          ],
          "heatmap": [
           {
            "colorbar": {
             "outlinewidth": 0,
             "ticks": ""
            },
            "colorscale": [
             [
              0,
              "#0d0887"
             ],
             [
              0.1111111111111111,
              "#46039f"
             ],
             [
              0.2222222222222222,
              "#7201a8"
             ],
             [
              0.3333333333333333,
              "#9c179e"
             ],
             [
              0.4444444444444444,
              "#bd3786"
             ],
             [
              0.5555555555555556,
              "#d8576b"
             ],
             [
              0.6666666666666666,
              "#ed7953"
             ],
             [
              0.7777777777777778,
              "#fb9f3a"
             ],
             [
              0.8888888888888888,
              "#fdca26"
             ],
             [
              1,
              "#f0f921"
             ]
            ],
            "type": "heatmap"
           }
          ],
          "heatmapgl": [
           {
            "colorbar": {
             "outlinewidth": 0,
             "ticks": ""
            },
            "colorscale": [
             [
              0,
              "#0d0887"
             ],
             [
              0.1111111111111111,
              "#46039f"
             ],
             [
              0.2222222222222222,
              "#7201a8"
             ],
             [
              0.3333333333333333,
              "#9c179e"
             ],
             [
              0.4444444444444444,
              "#bd3786"
             ],
             [
              0.5555555555555556,
              "#d8576b"
             ],
             [
              0.6666666666666666,
              "#ed7953"
             ],
             [
              0.7777777777777778,
              "#fb9f3a"
             ],
             [
              0.8888888888888888,
              "#fdca26"
             ],
             [
              1,
              "#f0f921"
             ]
            ],
            "type": "heatmapgl"
           }
          ],
          "histogram": [
           {
            "marker": {
             "pattern": {
              "fillmode": "overlay",
              "size": 10,
              "solidity": 0.2
             }
            },
            "type": "histogram"
           }
          ],
          "histogram2d": [
           {
            "colorbar": {
             "outlinewidth": 0,
             "ticks": ""
            },
            "colorscale": [
             [
              0,
              "#0d0887"
             ],
             [
              0.1111111111111111,
              "#46039f"
             ],
             [
              0.2222222222222222,
              "#7201a8"
             ],
             [
              0.3333333333333333,
              "#9c179e"
             ],
             [
              0.4444444444444444,
              "#bd3786"
             ],
             [
              0.5555555555555556,
              "#d8576b"
             ],
             [
              0.6666666666666666,
              "#ed7953"
             ],
             [
              0.7777777777777778,
              "#fb9f3a"
             ],
             [
              0.8888888888888888,
              "#fdca26"
             ],
             [
              1,
              "#f0f921"
             ]
            ],
            "type": "histogram2d"
           }
          ],
          "histogram2dcontour": [
           {
            "colorbar": {
             "outlinewidth": 0,
             "ticks": ""
            },
            "colorscale": [
             [
              0,
              "#0d0887"
             ],
             [
              0.1111111111111111,
              "#46039f"
             ],
             [
              0.2222222222222222,
              "#7201a8"
             ],
             [
              0.3333333333333333,
              "#9c179e"
             ],
             [
              0.4444444444444444,
              "#bd3786"
             ],
             [
              0.5555555555555556,
              "#d8576b"
             ],
             [
              0.6666666666666666,
              "#ed7953"
             ],
             [
              0.7777777777777778,
              "#fb9f3a"
             ],
             [
              0.8888888888888888,
              "#fdca26"
             ],
             [
              1,
              "#f0f921"
             ]
            ],
            "type": "histogram2dcontour"
           }
          ],
          "mesh3d": [
           {
            "colorbar": {
             "outlinewidth": 0,
             "ticks": ""
            },
            "type": "mesh3d"
           }
          ],
          "parcoords": [
           {
            "line": {
             "colorbar": {
              "outlinewidth": 0,
              "ticks": ""
             }
            },
            "type": "parcoords"
           }
          ],
          "pie": [
           {
            "automargin": true,
            "type": "pie"
           }
          ],
          "scatter": [
           {
            "fillpattern": {
             "fillmode": "overlay",
             "size": 10,
             "solidity": 0.2
            },
            "type": "scatter"
           }
          ],
          "scatter3d": [
           {
            "line": {
             "colorbar": {
              "outlinewidth": 0,
              "ticks": ""
             }
            },
            "marker": {
             "colorbar": {
              "outlinewidth": 0,
              "ticks": ""
             }
            },
            "type": "scatter3d"
           }
          ],
          "scattercarpet": [
           {
            "marker": {
             "colorbar": {
              "outlinewidth": 0,
              "ticks": ""
             }
            },
            "type": "scattercarpet"
           }
          ],
          "scattergeo": [
           {
            "marker": {
             "colorbar": {
              "outlinewidth": 0,
              "ticks": ""
             }
            },
            "type": "scattergeo"
           }
          ],
          "scattergl": [
           {
            "marker": {
             "colorbar": {
              "outlinewidth": 0,
              "ticks": ""
             }
            },
            "type": "scattergl"
           }
          ],
          "scattermapbox": [
           {
            "marker": {
             "colorbar": {
              "outlinewidth": 0,
              "ticks": ""
             }
            },
            "type": "scattermapbox"
           }
          ],
          "scatterpolar": [
           {
            "marker": {
             "colorbar": {
              "outlinewidth": 0,
              "ticks": ""
             }
            },
            "type": "scatterpolar"
           }
          ],
          "scatterpolargl": [
           {
            "marker": {
             "colorbar": {
              "outlinewidth": 0,
              "ticks": ""
             }
            },
            "type": "scatterpolargl"
           }
          ],
          "scatterternary": [
           {
            "marker": {
             "colorbar": {
              "outlinewidth": 0,
              "ticks": ""
             }
            },
            "type": "scatterternary"
           }
          ],
          "surface": [
           {
            "colorbar": {
             "outlinewidth": 0,
             "ticks": ""
            },
            "colorscale": [
             [
              0,
              "#0d0887"
             ],
             [
              0.1111111111111111,
              "#46039f"
             ],
             [
              0.2222222222222222,
              "#7201a8"
             ],
             [
              0.3333333333333333,
              "#9c179e"
             ],
             [
              0.4444444444444444,
              "#bd3786"
             ],
             [
              0.5555555555555556,
              "#d8576b"
             ],
             [
              0.6666666666666666,
              "#ed7953"
             ],
             [
              0.7777777777777778,
              "#fb9f3a"
             ],
             [
              0.8888888888888888,
              "#fdca26"
             ],
             [
              1,
              "#f0f921"
             ]
            ],
            "type": "surface"
           }
          ],
          "table": [
           {
            "cells": {
             "fill": {
              "color": "#EBF0F8"
             },
             "line": {
              "color": "white"
             }
            },
            "header": {
             "fill": {
              "color": "#C8D4E3"
             },
             "line": {
              "color": "white"
             }
            },
            "type": "table"
           }
          ]
         },
         "layout": {
          "annotationdefaults": {
           "arrowcolor": "#2a3f5f",
           "arrowhead": 0,
           "arrowwidth": 1
          },
          "autotypenumbers": "strict",
          "coloraxis": {
           "colorbar": {
            "outlinewidth": 0,
            "ticks": ""
           }
          },
          "colorscale": {
           "diverging": [
            [
             0,
             "#8e0152"
            ],
            [
             0.1,
             "#c51b7d"
            ],
            [
             0.2,
             "#de77ae"
            ],
            [
             0.3,
             "#f1b6da"
            ],
            [
             0.4,
             "#fde0ef"
            ],
            [
             0.5,
             "#f7f7f7"
            ],
            [
             0.6,
             "#e6f5d0"
            ],
            [
             0.7,
             "#b8e186"
            ],
            [
             0.8,
             "#7fbc41"
            ],
            [
             0.9,
             "#4d9221"
            ],
            [
             1,
             "#276419"
            ]
           ],
           "sequential": [
            [
             0,
             "#0d0887"
            ],
            [
             0.1111111111111111,
             "#46039f"
            ],
            [
             0.2222222222222222,
             "#7201a8"
            ],
            [
             0.3333333333333333,
             "#9c179e"
            ],
            [
             0.4444444444444444,
             "#bd3786"
            ],
            [
             0.5555555555555556,
             "#d8576b"
            ],
            [
             0.6666666666666666,
             "#ed7953"
            ],
            [
             0.7777777777777778,
             "#fb9f3a"
            ],
            [
             0.8888888888888888,
             "#fdca26"
            ],
            [
             1,
             "#f0f921"
            ]
           ],
           "sequentialminus": [
            [
             0,
             "#0d0887"
            ],
            [
             0.1111111111111111,
             "#46039f"
            ],
            [
             0.2222222222222222,
             "#7201a8"
            ],
            [
             0.3333333333333333,
             "#9c179e"
            ],
            [
             0.4444444444444444,
             "#bd3786"
            ],
            [
             0.5555555555555556,
             "#d8576b"
            ],
            [
             0.6666666666666666,
             "#ed7953"
            ],
            [
             0.7777777777777778,
             "#fb9f3a"
            ],
            [
             0.8888888888888888,
             "#fdca26"
            ],
            [
             1,
             "#f0f921"
            ]
           ]
          },
          "colorway": [
           "#636efa",
           "#EF553B",
           "#00cc96",
           "#ab63fa",
           "#FFA15A",
           "#19d3f3",
           "#FF6692",
           "#B6E880",
           "#FF97FF",
           "#FECB52"
          ],
          "font": {
           "color": "#2a3f5f"
          },
          "geo": {
           "bgcolor": "white",
           "lakecolor": "white",
           "landcolor": "white",
           "showlakes": true,
           "showland": true,
           "subunitcolor": "#C8D4E3"
          },
          "hoverlabel": {
           "align": "left"
          },
          "hovermode": "closest",
          "mapbox": {
           "style": "light"
          },
          "paper_bgcolor": "white",
          "plot_bgcolor": "white",
          "polar": {
           "angularaxis": {
            "gridcolor": "#EBF0F8",
            "linecolor": "#EBF0F8",
            "ticks": ""
           },
           "bgcolor": "white",
           "radialaxis": {
            "gridcolor": "#EBF0F8",
            "linecolor": "#EBF0F8",
            "ticks": ""
           }
          },
          "scene": {
           "xaxis": {
            "backgroundcolor": "white",
            "gridcolor": "#DFE8F3",
            "gridwidth": 2,
            "linecolor": "#EBF0F8",
            "showbackground": true,
            "ticks": "",
            "zerolinecolor": "#EBF0F8"
           },
           "yaxis": {
            "backgroundcolor": "white",
            "gridcolor": "#DFE8F3",
            "gridwidth": 2,
            "linecolor": "#EBF0F8",
            "showbackground": true,
            "ticks": "",
            "zerolinecolor": "#EBF0F8"
           },
           "zaxis": {
            "backgroundcolor": "white",
            "gridcolor": "#DFE8F3",
            "gridwidth": 2,
            "linecolor": "#EBF0F8",
            "showbackground": true,
            "ticks": "",
            "zerolinecolor": "#EBF0F8"
           }
          },
          "shapedefaults": {
           "line": {
            "color": "#2a3f5f"
           }
          },
          "ternary": {
           "aaxis": {
            "gridcolor": "#DFE8F3",
            "linecolor": "#A2B1C6",
            "ticks": ""
           },
           "baxis": {
            "gridcolor": "#DFE8F3",
            "linecolor": "#A2B1C6",
            "ticks": ""
           },
           "bgcolor": "white",
           "caxis": {
            "gridcolor": "#DFE8F3",
            "linecolor": "#A2B1C6",
            "ticks": ""
           }
          },
          "title": {
           "x": 0.05
          },
          "xaxis": {
           "automargin": true,
           "gridcolor": "#EBF0F8",
           "linecolor": "#EBF0F8",
           "ticks": "",
           "title": {
            "standoff": 15
           },
           "zerolinecolor": "#EBF0F8",
           "zerolinewidth": 2
          },
          "yaxis": {
           "automargin": true,
           "gridcolor": "#EBF0F8",
           "linecolor": "#EBF0F8",
           "ticks": "",
           "title": {
            "standoff": 15
           },
           "zerolinecolor": "#EBF0F8",
           "zerolinewidth": 2
          }
         }
        }
       }
      }
     },
     "metadata": {},
     "output_type": "display_data"
    }
   ],
   "source": [
    "fig = make_wind_rose(df_raw)\n",
    "fig.show()"
   ]
  }
 ],
 "metadata": {
  "kernelspec": {
   "display_name": "base",
   "language": "python",
   "name": "python3"
  },
  "language_info": {
   "codemirror_mode": {
    "name": "ipython",
    "version": 3
   },
   "file_extension": ".py",
   "mimetype": "text/x-python",
   "name": "python",
   "nbconvert_exporter": "python",
   "pygments_lexer": "ipython3",
   "version": "3.12.3"
  }
 },
 "nbformat": 4,
 "nbformat_minor": 5
}
